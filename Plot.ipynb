{
 "cells": [
  {
   "cell_type": "code",
   "execution_count": 2,
   "metadata": {
    "collapsed": true
   },
   "outputs": [
    {
     "data": {
      "text/plain": "   Unnamed: 0 problem  threshold  layers  neurons    lr   decay       acc  \\\n0           0       p        0.1       1        8  0.05  0.0100  0.532512   \n1           1       p        0.1       1        8  0.05  0.0010  0.536619   \n2           2       p        0.1       1        8  0.05  0.0001  0.537988   \n\n    val_acc      loss  val_loss        pnl   val_pnl  \n0  0.506849  0.934579  0.939622  17.249981  1.667698  \n1  0.495890  0.952980  0.924195  17.249981  1.456503  \n2  0.495890  0.929335  0.931909  17.264510  1.861051  ",
      "text/html": "<div>\n<style scoped>\n    .dataframe tbody tr th:only-of-type {\n        vertical-align: middle;\n    }\n\n    .dataframe tbody tr th {\n        vertical-align: top;\n    }\n\n    .dataframe thead th {\n        text-align: right;\n    }\n</style>\n<table border=\"1\" class=\"dataframe\">\n  <thead>\n    <tr style=\"text-align: right;\">\n      <th></th>\n      <th>Unnamed: 0</th>\n      <th>problem</th>\n      <th>threshold</th>\n      <th>layers</th>\n      <th>neurons</th>\n      <th>lr</th>\n      <th>decay</th>\n      <th>acc</th>\n      <th>val_acc</th>\n      <th>loss</th>\n      <th>val_loss</th>\n      <th>pnl</th>\n      <th>val_pnl</th>\n    </tr>\n  </thead>\n  <tbody>\n    <tr>\n      <th>0</th>\n      <td>0</td>\n      <td>p</td>\n      <td>0.1</td>\n      <td>1</td>\n      <td>8</td>\n      <td>0.05</td>\n      <td>0.0100</td>\n      <td>0.532512</td>\n      <td>0.506849</td>\n      <td>0.934579</td>\n      <td>0.939622</td>\n      <td>17.249981</td>\n      <td>1.667698</td>\n    </tr>\n    <tr>\n      <th>1</th>\n      <td>1</td>\n      <td>p</td>\n      <td>0.1</td>\n      <td>1</td>\n      <td>8</td>\n      <td>0.05</td>\n      <td>0.0010</td>\n      <td>0.536619</td>\n      <td>0.495890</td>\n      <td>0.952980</td>\n      <td>0.924195</td>\n      <td>17.249981</td>\n      <td>1.456503</td>\n    </tr>\n    <tr>\n      <th>2</th>\n      <td>2</td>\n      <td>p</td>\n      <td>0.1</td>\n      <td>1</td>\n      <td>8</td>\n      <td>0.05</td>\n      <td>0.0001</td>\n      <td>0.537988</td>\n      <td>0.495890</td>\n      <td>0.929335</td>\n      <td>0.931909</td>\n      <td>17.264510</td>\n      <td>1.861051</td>\n    </tr>\n  </tbody>\n</table>\n</div>"
     },
     "execution_count": 2,
     "metadata": {},
     "output_type": "execute_result"
    }
   ],
   "source": [
    "import pandas as pd\n",
    "\n",
    "df = pd.read_csv('./pickles/btc/lstm/grouped_res.csv')\n",
    "df"
   ]
  }
 ],
 "metadata": {
  "kernelspec": {
   "display_name": "Python 3",
   "language": "python",
   "name": "python3"
  },
  "language_info": {
   "codemirror_mode": {
    "name": "ipython",
    "version": 2
   },
   "file_extension": ".py",
   "mimetype": "text/x-python",
   "name": "python",
   "nbconvert_exporter": "python",
   "pygments_lexer": "ipython2",
   "version": "2.7.6"
  }
 },
 "nbformat": 4,
 "nbformat_minor": 0
}