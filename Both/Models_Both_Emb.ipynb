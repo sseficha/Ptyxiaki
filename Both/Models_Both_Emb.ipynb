{
 "cells": [
  {
   "cell_type": "code",
   "execution_count": 21,
   "metadata": {
    "collapsed": true
   },
   "outputs": [
    {
     "name": "stdout",
     "output_type": "stream",
     "text": [
      "The autoreload extension is already loaded. To reload it, use:\n",
      "  %reload_ext autoreload\n"
     ]
    }
   ],
   "source": [
    "\n",
    "import pandas as pd\n",
    "import numpy as np\n",
    "from tensorflow.keras.models import load_model\n",
    "from tensorflow.keras.callbacks import EarlyStopping, ModelCheckpoint\n",
    "from sklearn.model_selection import train_test_split\n",
    "from sklearn.metrics import classification_report\n",
    "import matplotlib.pyplot as plt\n",
    "import seaborn as sb\n",
    "from pckgs.headline_preprocess import HeadlinePreprocess\n",
    "from pckgs.models import get_model_both_emb\n",
    "%load_ext autoreload\n",
    "%autoreload 2\n"
   ]
  },
  {
   "cell_type": "code",
   "execution_count": 22,
   "outputs": [
    {
     "data": {
      "text/plain": "            pChange_scaled_t-1  pChange_scaled_t-2  pChange_scaled_t-3  \\\ndate                                                                     \n2015-01-22            0.257598           -0.149628            0.035143   \n2015-01-23            0.071202            0.257598           -0.149628   \n2015-01-24           -0.054621            0.071202            0.257598   \n2015-01-25            0.211611           -0.054621            0.071202   \n2015-01-26            0.048235            0.211611           -0.054621   \n...                        ...                 ...                 ...   \n2019-12-27           -0.051358           -0.077206           -0.081685   \n2019-12-28           -0.016081           -0.051358           -0.077206   \n2019-12-29           -0.020335           -0.016081           -0.051358   \n2019-12-30            0.000305           -0.020335           -0.016081   \n2019-12-31           -0.134379            0.000305           -0.020335   \n\n            pChange_scaled_t-4  pChange_scaled_t-5  pChange_scaled_t-6  \\\ndate                                                                     \n2015-01-22            0.189588           -0.203272           -0.101704   \n2015-01-23            0.035143            0.189588           -0.203272   \n2015-01-24           -0.149628            0.035143            0.189588   \n2015-01-25            0.257598           -0.149628            0.035143   \n2015-01-26            0.071202            0.257598           -0.149628   \n...                        ...                 ...                 ...   \n2019-12-27           -0.147564            0.149889           -0.072567   \n2019-12-28           -0.081685           -0.147564            0.149889   \n2019-12-29           -0.077206           -0.081685           -0.147564   \n2019-12-30           -0.051358           -0.077206           -0.081685   \n2019-12-31           -0.016081           -0.051358           -0.077206   \n\n            pChange_scaled_t-7  pChange_scaled_t-8  pChange_scaled_t-9  \\\ndate                                                                     \n2015-01-22            0.850764           -1.000000           -0.635317   \n2015-01-23           -0.101704            0.850764           -1.000000   \n2015-01-24           -0.203272           -0.101704            0.850764   \n2015-01-25            0.189588           -0.203272           -0.101704   \n2015-01-26            0.035143            0.189588           -0.203272   \n...                        ...                 ...                 ...   \n2019-12-27           -0.023073           -0.120631            0.349592   \n2019-12-28           -0.072567           -0.023073           -0.120631   \n2019-12-29            0.149889           -0.072567           -0.023073   \n2019-12-30           -0.147564            0.149889           -0.072567   \n2019-12-31           -0.081685           -0.147564            0.149889   \n\n            pChange_scaled_t-10  pChange_scaled_t-11  pChange_scaled_t-12  \\\ndate                                                                        \n2015-01-22            -0.032267            -0.177178            -0.290542   \n2015-01-23            -0.635317            -0.032267            -0.177178   \n2015-01-24            -1.000000            -0.635317            -0.032267   \n2015-01-25             0.850764            -1.000000            -0.635317   \n2015-01-26            -0.101704             0.850764            -1.000000   \n...                         ...                  ...                  ...   \n2019-12-27            -0.199869            -0.174645            -0.016419   \n2019-12-28             0.349592            -0.199869            -0.174645   \n2019-12-29            -0.120631             0.349592            -0.199869   \n2019-12-30            -0.023073            -0.120631             0.349592   \n2019-12-31            -0.072567            -0.023073            -0.120631   \n\n            pChange_scaled_t-13  pChange_scaled_t-14  pChange_scaled_t-15  \\\ndate                                                                        \n2015-01-22             0.194007            -0.047309            -0.047309   \n2015-01-23            -0.290542             0.194007            -0.047309   \n2015-01-24            -0.177178            -0.290542             0.194007   \n2015-01-25            -0.032267            -0.177178            -0.290542   \n2015-01-26            -0.635317            -0.032267            -0.177178   \n...                         ...                  ...                  ...   \n2019-12-27            -0.153680            -0.009940            -0.057564   \n2019-12-28            -0.016419            -0.153680            -0.009940   \n2019-12-29            -0.174645            -0.016419            -0.153680   \n2019-12-30            -0.199869            -0.174645            -0.016419   \n2019-12-31             0.349592            -0.199869            -0.174645   \n\n            pChange_scaled_t-16  pChange_scaled_t-17  pChange_scaled_t-18  \\\ndate                                                                        \n2015-01-22            -0.047309             0.141311            -0.295625   \n2015-01-23            -0.047309            -0.047309             0.141311   \n2015-01-24            -0.047309            -0.047309            -0.047309   \n2015-01-25             0.194007            -0.047309            -0.047309   \n2015-01-26            -0.290542             0.194007            -0.047309   \n...                         ...                  ...                  ...   \n2019-12-27            -0.051972            -0.113264            -0.142308   \n2019-12-28            -0.057564            -0.051972            -0.113264   \n2019-12-29            -0.009940            -0.057564            -0.051972   \n2019-12-30            -0.153680            -0.009940            -0.057564   \n2019-12-31            -0.016419            -0.153680            -0.009940   \n\n            pChange_scaled_t-19  pChange_scaled_t-20  \ndate                                                  \n2015-01-22            -0.459500            -0.027349  \n2015-01-23            -0.295625            -0.459500  \n2015-01-24             0.141311            -0.295625  \n2015-01-25            -0.047309             0.141311  \n2015-01-26            -0.047309            -0.047309  \n...                         ...                  ...  \n2019-12-27            -0.036103            -0.067498  \n2019-12-28            -0.142308            -0.036103  \n2019-12-29            -0.113264            -0.142308  \n2019-12-30            -0.051972            -0.113264  \n2019-12-31            -0.057564            -0.051972  \n\n[1805 rows x 20 columns]",
      "text/html": "<div>\n<style scoped>\n    .dataframe tbody tr th:only-of-type {\n        vertical-align: middle;\n    }\n\n    .dataframe tbody tr th {\n        vertical-align: top;\n    }\n\n    .dataframe thead th {\n        text-align: right;\n    }\n</style>\n<table border=\"1\" class=\"dataframe\">\n  <thead>\n    <tr style=\"text-align: right;\">\n      <th></th>\n      <th>pChange_scaled_t-1</th>\n      <th>pChange_scaled_t-2</th>\n      <th>pChange_scaled_t-3</th>\n      <th>pChange_scaled_t-4</th>\n      <th>pChange_scaled_t-5</th>\n      <th>pChange_scaled_t-6</th>\n      <th>pChange_scaled_t-7</th>\n      <th>pChange_scaled_t-8</th>\n      <th>pChange_scaled_t-9</th>\n      <th>pChange_scaled_t-10</th>\n      <th>pChange_scaled_t-11</th>\n      <th>pChange_scaled_t-12</th>\n      <th>pChange_scaled_t-13</th>\n      <th>pChange_scaled_t-14</th>\n      <th>pChange_scaled_t-15</th>\n      <th>pChange_scaled_t-16</th>\n      <th>pChange_scaled_t-17</th>\n      <th>pChange_scaled_t-18</th>\n      <th>pChange_scaled_t-19</th>\n      <th>pChange_scaled_t-20</th>\n    </tr>\n    <tr>\n      <th>date</th>\n      <th></th>\n      <th></th>\n      <th></th>\n      <th></th>\n      <th></th>\n      <th></th>\n      <th></th>\n      <th></th>\n      <th></th>\n      <th></th>\n      <th></th>\n      <th></th>\n      <th></th>\n      <th></th>\n      <th></th>\n      <th></th>\n      <th></th>\n      <th></th>\n      <th></th>\n      <th></th>\n    </tr>\n  </thead>\n  <tbody>\n    <tr>\n      <th>2015-01-22</th>\n      <td>0.257598</td>\n      <td>-0.149628</td>\n      <td>0.035143</td>\n      <td>0.189588</td>\n      <td>-0.203272</td>\n      <td>-0.101704</td>\n      <td>0.850764</td>\n      <td>-1.000000</td>\n      <td>-0.635317</td>\n      <td>-0.032267</td>\n      <td>-0.177178</td>\n      <td>-0.290542</td>\n      <td>0.194007</td>\n      <td>-0.047309</td>\n      <td>-0.047309</td>\n      <td>-0.047309</td>\n      <td>0.141311</td>\n      <td>-0.295625</td>\n      <td>-0.459500</td>\n      <td>-0.027349</td>\n    </tr>\n    <tr>\n      <th>2015-01-23</th>\n      <td>0.071202</td>\n      <td>0.257598</td>\n      <td>-0.149628</td>\n      <td>0.035143</td>\n      <td>0.189588</td>\n      <td>-0.203272</td>\n      <td>-0.101704</td>\n      <td>0.850764</td>\n      <td>-1.000000</td>\n      <td>-0.635317</td>\n      <td>-0.032267</td>\n      <td>-0.177178</td>\n      <td>-0.290542</td>\n      <td>0.194007</td>\n      <td>-0.047309</td>\n      <td>-0.047309</td>\n      <td>-0.047309</td>\n      <td>0.141311</td>\n      <td>-0.295625</td>\n      <td>-0.459500</td>\n    </tr>\n    <tr>\n      <th>2015-01-24</th>\n      <td>-0.054621</td>\n      <td>0.071202</td>\n      <td>0.257598</td>\n      <td>-0.149628</td>\n      <td>0.035143</td>\n      <td>0.189588</td>\n      <td>-0.203272</td>\n      <td>-0.101704</td>\n      <td>0.850764</td>\n      <td>-1.000000</td>\n      <td>-0.635317</td>\n      <td>-0.032267</td>\n      <td>-0.177178</td>\n      <td>-0.290542</td>\n      <td>0.194007</td>\n      <td>-0.047309</td>\n      <td>-0.047309</td>\n      <td>-0.047309</td>\n      <td>0.141311</td>\n      <td>-0.295625</td>\n    </tr>\n    <tr>\n      <th>2015-01-25</th>\n      <td>0.211611</td>\n      <td>-0.054621</td>\n      <td>0.071202</td>\n      <td>0.257598</td>\n      <td>-0.149628</td>\n      <td>0.035143</td>\n      <td>0.189588</td>\n      <td>-0.203272</td>\n      <td>-0.101704</td>\n      <td>0.850764</td>\n      <td>-1.000000</td>\n      <td>-0.635317</td>\n      <td>-0.032267</td>\n      <td>-0.177178</td>\n      <td>-0.290542</td>\n      <td>0.194007</td>\n      <td>-0.047309</td>\n      <td>-0.047309</td>\n      <td>-0.047309</td>\n      <td>0.141311</td>\n    </tr>\n    <tr>\n      <th>2015-01-26</th>\n      <td>0.048235</td>\n      <td>0.211611</td>\n      <td>-0.054621</td>\n      <td>0.071202</td>\n      <td>0.257598</td>\n      <td>-0.149628</td>\n      <td>0.035143</td>\n      <td>0.189588</td>\n      <td>-0.203272</td>\n      <td>-0.101704</td>\n      <td>0.850764</td>\n      <td>-1.000000</td>\n      <td>-0.635317</td>\n      <td>-0.032267</td>\n      <td>-0.177178</td>\n      <td>-0.290542</td>\n      <td>0.194007</td>\n      <td>-0.047309</td>\n      <td>-0.047309</td>\n      <td>-0.047309</td>\n    </tr>\n    <tr>\n      <th>...</th>\n      <td>...</td>\n      <td>...</td>\n      <td>...</td>\n      <td>...</td>\n      <td>...</td>\n      <td>...</td>\n      <td>...</td>\n      <td>...</td>\n      <td>...</td>\n      <td>...</td>\n      <td>...</td>\n      <td>...</td>\n      <td>...</td>\n      <td>...</td>\n      <td>...</td>\n      <td>...</td>\n      <td>...</td>\n      <td>...</td>\n      <td>...</td>\n      <td>...</td>\n    </tr>\n    <tr>\n      <th>2019-12-27</th>\n      <td>-0.051358</td>\n      <td>-0.077206</td>\n      <td>-0.081685</td>\n      <td>-0.147564</td>\n      <td>0.149889</td>\n      <td>-0.072567</td>\n      <td>-0.023073</td>\n      <td>-0.120631</td>\n      <td>0.349592</td>\n      <td>-0.199869</td>\n      <td>-0.174645</td>\n      <td>-0.016419</td>\n      <td>-0.153680</td>\n      <td>-0.009940</td>\n      <td>-0.057564</td>\n      <td>-0.051972</td>\n      <td>-0.113264</td>\n      <td>-0.142308</td>\n      <td>-0.036103</td>\n      <td>-0.067498</td>\n    </tr>\n    <tr>\n      <th>2019-12-28</th>\n      <td>-0.016081</td>\n      <td>-0.051358</td>\n      <td>-0.077206</td>\n      <td>-0.081685</td>\n      <td>-0.147564</td>\n      <td>0.149889</td>\n      <td>-0.072567</td>\n      <td>-0.023073</td>\n      <td>-0.120631</td>\n      <td>0.349592</td>\n      <td>-0.199869</td>\n      <td>-0.174645</td>\n      <td>-0.016419</td>\n      <td>-0.153680</td>\n      <td>-0.009940</td>\n      <td>-0.057564</td>\n      <td>-0.051972</td>\n      <td>-0.113264</td>\n      <td>-0.142308</td>\n      <td>-0.036103</td>\n    </tr>\n    <tr>\n      <th>2019-12-29</th>\n      <td>-0.020335</td>\n      <td>-0.016081</td>\n      <td>-0.051358</td>\n      <td>-0.077206</td>\n      <td>-0.081685</td>\n      <td>-0.147564</td>\n      <td>0.149889</td>\n      <td>-0.072567</td>\n      <td>-0.023073</td>\n      <td>-0.120631</td>\n      <td>0.349592</td>\n      <td>-0.199869</td>\n      <td>-0.174645</td>\n      <td>-0.016419</td>\n      <td>-0.153680</td>\n      <td>-0.009940</td>\n      <td>-0.057564</td>\n      <td>-0.051972</td>\n      <td>-0.113264</td>\n      <td>-0.142308</td>\n    </tr>\n    <tr>\n      <th>2019-12-30</th>\n      <td>0.000305</td>\n      <td>-0.020335</td>\n      <td>-0.016081</td>\n      <td>-0.051358</td>\n      <td>-0.077206</td>\n      <td>-0.081685</td>\n      <td>-0.147564</td>\n      <td>0.149889</td>\n      <td>-0.072567</td>\n      <td>-0.023073</td>\n      <td>-0.120631</td>\n      <td>0.349592</td>\n      <td>-0.199869</td>\n      <td>-0.174645</td>\n      <td>-0.016419</td>\n      <td>-0.153680</td>\n      <td>-0.009940</td>\n      <td>-0.057564</td>\n      <td>-0.051972</td>\n      <td>-0.113264</td>\n    </tr>\n    <tr>\n      <th>2019-12-31</th>\n      <td>-0.134379</td>\n      <td>0.000305</td>\n      <td>-0.020335</td>\n      <td>-0.016081</td>\n      <td>-0.051358</td>\n      <td>-0.077206</td>\n      <td>-0.081685</td>\n      <td>-0.147564</td>\n      <td>0.149889</td>\n      <td>-0.072567</td>\n      <td>-0.023073</td>\n      <td>-0.120631</td>\n      <td>0.349592</td>\n      <td>-0.199869</td>\n      <td>-0.174645</td>\n      <td>-0.016419</td>\n      <td>-0.153680</td>\n      <td>-0.009940</td>\n      <td>-0.057564</td>\n      <td>-0.051972</td>\n    </tr>\n  </tbody>\n</table>\n<p>1805 rows × 20 columns</p>\n</div>"
     },
     "execution_count": 22,
     "metadata": {},
     "output_type": "execute_result"
    }
   ],
   "source": [
    "price = pd.read_csv('../Price/datasets/bitcoin_position_day_20.csv', parse_dates=['Timestamp'])\n",
    "price.rename(columns={'Timestamp':'date'}, inplace=True)\n",
    "price.set_index('date', inplace=True)\n",
    "y = price.loc[:,['down', 'same', 'up']]\n",
    "x1 = price.drop(['down', 'same', 'up'], axis=1)\n",
    "x1"
   ],
   "metadata": {
    "collapsed": false,
    "pycharm": {
     "name": "#%%\n"
    }
   }
  },
  {
   "cell_type": "code",
   "execution_count": 23,
   "outputs": [
    {
     "name": "stdout",
     "output_type": "stream",
     "text": [
      "               0_t-1     1_t-1     2_t-1     3_t-1     4_t-1     5_t-1  \\\n",
      "date                                                                     \n",
      "2015-01-22  0.092871  0.228522 -0.193380 -0.175753 -0.223146  0.351874   \n",
      "2015-01-23  0.211204 -0.254842 -0.315833 -0.111376 -0.450111  0.195621   \n",
      "2015-01-24  0.185123 -0.460156  0.153764 -0.578861 -0.472663  0.460326   \n",
      "2015-01-25  0.024464 -0.348920  0.059330  0.009928  0.183207  0.423806   \n",
      "2015-01-26  0.377936 -0.037442  0.140681  0.024155  0.191069 -0.034123   \n",
      "\n",
      "               6_t-1     7_t-1     8_t-1     9_t-1  ...  758_t-20  759_t-20  \\\n",
      "date                                                ...                       \n",
      "2015-01-22  0.193213 -0.289677  0.042950  0.261798  ...  0.164454 -0.115448   \n",
      "2015-01-23 -0.029607 -0.110427  0.100831  0.529869  ...  0.455318 -0.213426   \n",
      "2015-01-24 -0.052701 -0.063623  0.280509 -0.120617  ... -0.046153 -0.023415   \n",
      "2015-01-25  0.306283 -0.777522  0.541920 -0.197269  ...  0.330218 -0.057513   \n",
      "2015-01-26  0.061010 -0.018384  0.446257 -0.074833  ...  0.018656 -0.177431   \n",
      "\n",
      "            760_t-20  761_t-20  762_t-20  763_t-20  764_t-20  765_t-20  \\\n",
      "date                                                                     \n",
      "2015-01-22 -0.296133  0.068582 -0.119575 -0.355587 -0.280879  0.012072   \n",
      "2015-01-23 -0.459404 -0.026502  0.412958  0.236476  0.193180  0.304628   \n",
      "2015-01-24 -0.499490 -0.217109 -0.291791  0.043449 -0.655953  0.716432   \n",
      "2015-01-25 -0.373111  0.330814 -0.255793 -0.188891 -0.379394  0.220609   \n",
      "2015-01-26 -0.246939 -0.217731  0.068170 -0.091461  0.286904 -0.015224   \n",
      "\n",
      "            766_t-20  767_t-20  \n",
      "date                            \n",
      "2015-01-22 -0.447884  0.432278  \n",
      "2015-01-23 -0.313623  0.125209  \n",
      "2015-01-24 -0.179833 -0.320341  \n",
      "2015-01-25 -0.005982 -0.205163  \n",
      "2015-01-26 -0.049639  0.165872  \n",
      "\n",
      "[5 rows x 15360 columns]\n",
      "(1805, 20, 768)\n"
     ]
    }
   ],
   "source": [
    "#read headline vectors and shape them correctly\n",
    "headline = pd.read_csv('../Text/datasets/headline_embeddings_mean.csv', index_col='date', parse_dates=['date'])\n",
    "# df = pd.read_csv('./datasets/headline_embeddings_mean_pca.csv', index_col='date', parse_dates=['date'])\n",
    "# create shifted observations and reshape to 3d input\n",
    "lag = 21  # 20+1 so we don't use headlines from same day (leakage)\n",
    "x2 = HeadlinePreprocess.shape_vectors(headline, lag, y.index)\n",
    "\n"
   ],
   "metadata": {
    "collapsed": false,
    "pycharm": {
     "name": "#%%\n"
    }
   }
  },
  {
   "cell_type": "code",
   "execution_count": 25,
   "outputs": [
    {
     "name": "stdout",
     "output_type": "stream",
     "text": [
      "(1444, 20)\n",
      "(1444, 20, 768)\n"
     ]
    }
   ],
   "source": [
    "#price\n",
    "x1_train, x1_test, y_train, y_test = train_test_split(x1, y, test_size=0.2, shuffle=False)\n",
    "#vecs\n",
    "x2_train, x2_test, _, _ = train_test_split(x2, y, test_size=0.2, shuffle=False)\n",
    "del _\n",
    "print(x1_train.shape)\n",
    "print(x2_train.shape)\n",
    "\n",
    "y_index = y_test.index\n",
    "x_index = y_train.index"
   ],
   "metadata": {
    "collapsed": false,
    "pycharm": {
     "name": "#%%\n"
    }
   }
  },
  {
   "cell_type": "code",
   "execution_count": 26,
   "outputs": [],
   "source": [
    "y_test_labeled = y_test.rename(columns={'down': -1, 'same': 0, 'up': 1})\n",
    "y_test_labeled = y_test_labeled.idxmax(axis=1)\n",
    "\n",
    "y_train_labeled = y_train.rename(columns={'down': -1, 'same': 0, 'up': 1})\n",
    "y_train_labeled = y_train_labeled.idxmax(axis=1)"
   ],
   "metadata": {
    "collapsed": false,
    "pycharm": {
     "name": "#%%\n"
    }
   }
  },
  {
   "cell_type": "code",
   "execution_count": 27,
   "outputs": [],
   "source": [
    "df_candle = pd.read_csv('../Price/datasets/bitcoin_candle_day.csv', header=0, parse_dates=['Timestamp'])\n",
    "df_candle.rename(columns={'Timestamp':'date'}, inplace=True)\n",
    "df_candle.set_index('date', inplace=True)\n",
    "df_candle.rename(columns={'Open': 'open', 'Low': 'low', 'High': 'high', 'Close': 'close'}, inplace=True)\n",
    "# align dates\n",
    "df_candle = df_candle.reindex(y_test.index)"
   ],
   "metadata": {
    "collapsed": false,
    "pycharm": {
     "name": "#%%\n"
    }
   }
  },
  {
   "cell_type": "code",
   "execution_count": 42,
   "outputs": [],
   "source": [
    "model = get_model_both_emb()"
   ],
   "metadata": {
    "collapsed": false,
    "pycharm": {
     "name": "#%%\n"
    }
   }
  },
  {
   "cell_type": "code",
   "execution_count": 43,
   "outputs": [],
   "source": [
    "es = EarlyStopping(monitor='val_loss', mode='min', min_delta=0.001, verbose=0, patience=60)\n",
    "mc = ModelCheckpoint('merged.h5',verbose=0, save_best_only=True)\n",
    "\n",
    "history = model.fit(x=[x1_train, x2_train], y=y_train, validation_data=([x1_test, x2_test], y_test),\n",
    "                           batch_size=32, epochs=100, callbacks=[es, mc], verbose=0)#, shuffle=False)\n",
    "\n",
    "model= load_model('merged.h5')"
   ],
   "metadata": {
    "collapsed": false,
    "pycharm": {
     "name": "#%%\n"
    }
   }
  },
  {
   "cell_type": "code",
   "execution_count": 45,
   "outputs": [
    {
     "data": {
      "text/plain": "<AxesSubplot:>"
     },
     "execution_count": 45,
     "metadata": {},
     "output_type": "execute_result"
    },
    {
     "data": {
      "text/plain": "<Figure size 432x288 with 1 Axes>",
      "image/png": "[encoded data removed]"
     },
     "metadata": {
      "needs_background": "light"
     },
     "output_type": "display_data"
    },
    {
     "data": {
      "text/plain": "<Figure size 432x288 with 1 Axes>",
      "image/png": "[encoded data removed]"
     },
     "metadata": {
      "needs_background": "light"
     },
     "output_type": "display_data"
    }
   ],
   "source": [
    "ac = {'accuracy': history.history['accuracy'], 'val_accuracy': history.history['val_accuracy']}\n",
    "plt.figure()\n",
    "sb.lineplot(data=ac)\n",
    "\n",
    "loss = {'loss': history.history['loss'], 'val_loss': history.history['val_loss']}\n",
    "plt.figure()\n",
    "sb.lineplot(data=loss)"
   ],
   "metadata": {
    "collapsed": false,
    "pycharm": {
     "name": "#%%\n"
    }
   }
  },
  {
   "cell_type": "code",
   "execution_count": 46,
   "outputs": [],
   "source": [
    "y_pred = model.predict([x1_test, x2_test])\n",
    "y_pred_labeled = pd.DataFrame(y_pred, columns=[-1, 0, 1], index=y_index)\n",
    "y_pred_labeled = y_pred_labeled.idxmax(axis=1)"
   ],
   "metadata": {
    "collapsed": false,
    "pycharm": {
     "name": "#%%\n"
    }
   }
  },
  {
   "cell_type": "code",
   "execution_count": 47,
   "outputs": [],
   "source": [
    "y_predt = model.predict([x1_train, x2_train])\n",
    "y_predt_labeled = pd.DataFrame(y_predt, columns=[-1, 0, 1], index=x_index)\n",
    "y_predt_labeled = y_predt_labeled.idxmax(axis=1)"
   ],
   "metadata": {
    "collapsed": false,
    "pycharm": {
     "name": "#%%\n"
    }
   }
  },
  {
   "cell_type": "code",
   "execution_count": 48,
   "outputs": [
    {
     "name": "stdout",
     "output_type": "stream",
     "text": [
      "              precision    recall  f1-score   support\n",
      "\n",
      "          -1       0.00      0.00      0.00       103\n",
      "           0       0.42      0.87      0.57       142\n",
      "           1       0.39      0.22      0.29       116\n",
      "\n",
      "    accuracy                           0.42       361\n",
      "   macro avg       0.27      0.37      0.28       361\n",
      "weighted avg       0.29      0.42      0.32       361\n",
      "\n"
     ]
    },
    {
     "name": "stderr",
     "output_type": "stream",
     "text": [
      "/home/solon/anaconda3/envs/Ptyxiaki/lib/python3.8/site-packages/sklearn/metrics/_classification.py:1221: UndefinedMetricWarning: Precision and F-score are ill-defined and being set to 0.0 in labels with no predicted samples. Use `zero_division` parameter to control this behavior.\n",
      "  _warn_prf(average, modifier, msg_start, len(result))\n"
     ]
    }
   ],
   "source": [
    "print(classification_report(y_test_labeled, y_pred_labeled))"
   ],
   "metadata": {
    "collapsed": false,
    "pycharm": {
     "name": "#%%\n"
    }
   }
  },
  {
   "cell_type": "code",
   "execution_count": 51,
   "outputs": [
    {
     "name": "stderr",
     "output_type": "stream",
     "text": [
      "/home/solon/anaconda3/envs/Ptyxiaki/lib/python3.8/site-packages/sklearn/metrics/_classification.py:1221: UndefinedMetricWarning: Precision and F-score are ill-defined and being set to 0.0 in labels with no predicted samples. Use `zero_division` parameter to control this behavior.\n",
      "  _warn_prf(average, modifier, msg_start, len(result))\n",
      "/home/solon/anaconda3/envs/Ptyxiaki/lib/python3.8/site-packages/sklearn/metrics/_classification.py:1221: UndefinedMetricWarning: Precision and F-score are ill-defined and being set to 0.0 in labels with no predicted samples. Use `zero_division` parameter to control this behavior.\n",
      "  _warn_prf(average, modifier, msg_start, len(result))\n",
      "/home/solon/anaconda3/envs/Ptyxiaki/lib/python3.8/site-packages/sklearn/metrics/_classification.py:1221: UndefinedMetricWarning: Precision and F-score are ill-defined and being set to 0.0 in labels with no predicted samples. Use `zero_division` parameter to control this behavior.\n",
      "  _warn_prf(average, modifier, msg_start, len(result))\n",
      "/home/solon/anaconda3/envs/Ptyxiaki/lib/python3.8/site-packages/sklearn/metrics/_classification.py:1221: UndefinedMetricWarning: Precision and F-score are ill-defined and being set to 0.0 in labels with no predicted samples. Use `zero_division` parameter to control this behavior.\n",
      "  _warn_prf(average, modifier, msg_start, len(result))\n",
      "/home/solon/anaconda3/envs/Ptyxiaki/lib/python3.8/site-packages/sklearn/metrics/_classification.py:1221: UndefinedMetricWarning: Precision and F-score are ill-defined and being set to 0.0 in labels with no predicted samples. Use `zero_division` parameter to control this behavior.\n",
      "  _warn_prf(average, modifier, msg_start, len(result))\n",
      "/home/solon/anaconda3/envs/Ptyxiaki/lib/python3.8/site-packages/sklearn/metrics/_classification.py:1221: UndefinedMetricWarning: Precision and F-score are ill-defined and being set to 0.0 in labels with no predicted samples. Use `zero_division` parameter to control this behavior.\n",
      "  _warn_prf(average, modifier, msg_start, len(result))\n",
      "/home/solon/anaconda3/envs/Ptyxiaki/lib/python3.8/site-packages/sklearn/metrics/_classification.py:1221: UndefinedMetricWarning: Precision and F-score are ill-defined and being set to 0.0 in labels with no predicted samples. Use `zero_division` parameter to control this behavior.\n",
      "  _warn_prf(average, modifier, msg_start, len(result))\n"
     ]
    },
    {
     "data": {
      "text/plain": "{'train_accuracy': [0.5304709141274239,\n  0.5,\n  0.5117728531855956,\n  0.5214681440443213,\n  0.5367036011080333,\n  0.49238227146814406,\n  0.554016620498615,\n  0.4840720221606648,\n  0.4909972299168975,\n  0.5228531855955678],\n 'train_f1': [0.46186854469026883,\n  0.4264973675970342,\n  0.4391820813118993,\n  0.45043507485592504,\n  0.5117413191147762,\n  0.4224071664347011,\n  0.4853633108482287,\n  0.4089143745319181,\n  0.4241081514391978,\n  0.4716540895048077],\n 'test_accuracy': [0.45429362880886426,\n  0.4626038781163435,\n  0.4792243767313019,\n  0.4182825484764543,\n  0.4515235457063712,\n  0.41274238227146814,\n  0.45706371191135736,\n  0.47368421052631576,\n  0.481994459833795,\n  0.4404432132963989],\n 'test_f1': [0.37912185615610533,\n  0.38192230254712517,\n  0.4005674357081924,\n  0.3395393754543133,\n  0.4098899256451377,\n  0.3371622644286785,\n  0.3805414752391764,\n  0.39313355158230506,\n  0.4009834992456114,\n  0.408017343498055]}"
     },
     "execution_count": 51,
     "metadata": {},
     "output_type": "execute_result"
    }
   ],
   "source": [
    "#test\n",
    "temp =  {'train_accuracy':[], 'train_f1':[], 'test_accuracy':[], 'test_f1':[]}\n",
    "\n",
    "for i in range(10):\n",
    "    model = get_model_both_emb()\n",
    "    es = EarlyStopping(monitor='val_loss', mode='min', min_delta=0.001, verbose=0, patience=60)\n",
    "    mc = ModelCheckpoint('model_price.h5',verbose=0, save_best_only=True)    #MLP\n",
    "\n",
    "    history = model.fit(x=[x1_train, x2_train], y=y_train, validation_data=([x1_test, x2_test], y_test), batch_size=32\n",
    "                        ,epochs=300, verbose=0, callbacks=[es, mc])#, shuffle=False)\n",
    "    model = load_model('model_price.h5')\n",
    "    y_pred = model.predict([x1_test, x2_test])\n",
    "    y_pred_labeled = pd.DataFrame(y_pred, columns=[-1, 0, 1], index=y_index)\n",
    "    y_pred_labeled = y_pred_labeled.idxmax(axis=1)\n",
    "    y_predt = model.predict([x1_train, x2_train])\n",
    "    y_predt_labeled = pd.DataFrame(y_predt, columns=[-1, 0, 1], index=x_index)\n",
    "    y_predt_labeled = y_predt_labeled.idxmax(axis=1)\n",
    "    results_test = classification_report(y_test_labeled, y_pred_labeled, output_dict=True)\n",
    "    temp['test_accuracy'].append(results_test['accuracy'])\n",
    "    temp['test_f1'].append(results_test['weighted avg']['f1-score'])\n",
    "    results_test = classification_report(y_train_labeled, y_predt_labeled, output_dict=True)\n",
    "    temp['train_accuracy'].append(results_test['accuracy'])\n",
    "    temp['train_f1'].append(results_test['weighted avg']['f1-score'])\n",
    "temp"
   ],
   "metadata": {
    "collapsed": false,
    "pycharm": {
     "name": "#%%\n"
    }
   }
  },
  {
   "cell_type": "code",
   "execution_count": 54,
   "outputs": [
    {
     "name": "stdout",
     "output_type": "stream",
     "text": [
      "0.4502171480328757\n",
      "0.38308790295047\n",
      "0.5144736842105263\n",
      "0.45318559556786703\n"
     ]
    }
   ],
   "source": [
    "import statistics\n",
    "\n",
    "print(statistics.mean(temp['train_f1']))\n",
    "print(statistics.mean(temp['test_f1']))\n",
    "print(statistics.mean(temp['train_accuracy']))\n",
    "print(statistics.mean(temp['test_accuracy']))"
   ],
   "metadata": {
    "collapsed": false,
    "pycharm": {
     "name": "#%%\n"
    }
   }
  }
 ],
 "metadata": {
  "kernelspec": {
   "name": "ptyxiaki",
   "language": "python",
   "display_name": "Ptyxiaki"
  },
  "language_info": {
   "codemirror_mode": {
    "name": "ipython",
    "version": 2
   },
   "file_extension": ".py",
   "mimetype": "text/x-python",
   "name": "python",
   "nbconvert_exporter": "python",
   "pygments_lexer": "ipython2",
   "version": "2.7.6"
  }
 },
 "nbformat": 4,
 "nbformat_minor": 0
}