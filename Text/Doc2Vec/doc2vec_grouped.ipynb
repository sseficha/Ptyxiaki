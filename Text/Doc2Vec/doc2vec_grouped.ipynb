{
 "cells": [
  {
   "cell_type": "code",
   "execution_count": 2,
   "outputs": [],
   "source": [
    "import pandas as pd\n",
    "from helper import min_dist\n",
    "%load_ext autoreload\n",
    "%autoreload 2"
   ],
   "metadata": {
    "collapsed": false,
    "pycharm": {
     "name": "#%%\n"
    }
   }
  },
  {
   "cell_type": "code",
   "execution_count": 15,
   "metadata": {
    "collapsed": true,
    "pycharm": {
     "name": "#%%\n"
    }
   },
   "outputs": [
    {
     "data": {
      "text/plain": "                   0              1              2              3  \\\ncount  223074.000000  223074.000000  223074.000000  223074.000000   \nmean        0.020145      -0.058149      -0.002413       0.004660   \nstd         0.056753       0.059005       0.058611       0.053306   \nmin        -0.329646      -0.375279      -0.448493      -0.387213   \n25%        -0.012970      -0.096241      -0.036395      -0.025288   \n50%         0.020547      -0.059977      -0.003140       0.004886   \n75%         0.053585      -0.021945       0.031077       0.034694   \nmax         0.416850       0.301096       0.432316       0.394424   \n\n                   4              5              6              7  \\\ncount  223074.000000  223074.000000  223074.000000  223074.000000   \nmean       -0.025828       0.021402       0.015338      -0.009097   \nstd         0.055798       0.058016       0.059489       0.057002   \nmin        -0.384694      -0.380243      -0.401113      -0.420736   \n25%        -0.059551      -0.012045      -0.018934      -0.041093   \n50%        -0.026730       0.020997       0.016616      -0.008150   \n75%         0.006395       0.054822       0.050354       0.023751   \nmax         0.320607       0.396551       0.392265       0.366123   \n\n                   8              9  ...            290            291  \\\ncount  223074.000000  223074.000000  ...  223074.000000  223074.000000   \nmean       -0.071199       0.022826  ...       0.033568      -0.016118   \nstd         0.064384       0.052777  ...       0.054711       0.052290   \nmin        -0.513482      -0.312975  ...      -0.395609      -0.344458   \n25%        -0.113991      -0.007827  ...       0.001629      -0.047327   \n50%        -0.075291       0.023913  ...       0.034768      -0.017698   \n75%        -0.032637       0.054279  ...       0.067265       0.013781   \nmax         0.370988       0.360288  ...       0.338956       0.351744   \n\n                 292            293            294            295  \\\ncount  223074.000000  223074.000000  223074.000000  223074.000000   \nmean        0.017756      -0.040872      -0.022874      -0.007228   \nstd         0.054538       0.062498       0.058268       0.057150   \nmin        -0.347665      -0.411395      -0.404001      -0.389235   \n25%        -0.013885      -0.080016      -0.056758      -0.038123   \n50%         0.018327      -0.043671      -0.022944      -0.004395   \n75%         0.050058      -0.004538       0.011044       0.027178   \nmax         0.359677       0.488684       0.340342       0.292156   \n\n                 296            297            298            299  \ncount  223074.000000  223074.000000  223074.000000  223074.000000  \nmean       -0.003124       0.027600      -0.038618       0.010317  \nstd         0.053861       0.055997       0.054983       0.054863  \nmin        -0.351916      -0.304094      -0.367947      -0.338003  \n25%        -0.033769      -0.005223      -0.072982      -0.021102  \n50%        -0.001774       0.028801      -0.041266       0.009971  \n75%         0.028154       0.061161      -0.006880       0.041844  \nmax         0.329892       0.438893       0.348745       0.359883  \n\n[8 rows x 300 columns]",
      "text/html": "<div>\n<style scoped>\n    .dataframe tbody tr th:only-of-type {\n        vertical-align: middle;\n    }\n\n    .dataframe tbody tr th {\n        vertical-align: top;\n    }\n\n    .dataframe thead th {\n        text-align: right;\n    }\n</style>\n<table border=\"1\" class=\"dataframe\">\n  <thead>\n    <tr style=\"text-align: right;\">\n      <th></th>\n      <th>0</th>\n      <th>1</th>\n      <th>2</th>\n      <th>3</th>\n      <th>4</th>\n      <th>5</th>\n      <th>6</th>\n      <th>7</th>\n      <th>8</th>\n      <th>9</th>\n      <th>...</th>\n      <th>290</th>\n      <th>291</th>\n      <th>292</th>\n      <th>293</th>\n      <th>294</th>\n      <th>295</th>\n      <th>296</th>\n      <th>297</th>\n      <th>298</th>\n      <th>299</th>\n    </tr>\n  </thead>\n  <tbody>\n    <tr>\n      <th>count</th>\n      <td>223074.000000</td>\n      <td>223074.000000</td>\n      <td>223074.000000</td>\n      <td>223074.000000</td>\n      <td>223074.000000</td>\n      <td>223074.000000</td>\n      <td>223074.000000</td>\n      <td>223074.000000</td>\n      <td>223074.000000</td>\n      <td>223074.000000</td>\n      <td>...</td>\n      <td>223074.000000</td>\n      <td>223074.000000</td>\n      <td>223074.000000</td>\n      <td>223074.000000</td>\n      <td>223074.000000</td>\n      <td>223074.000000</td>\n      <td>223074.000000</td>\n      <td>223074.000000</td>\n      <td>223074.000000</td>\n      <td>223074.000000</td>\n    </tr>\n    <tr>\n      <th>mean</th>\n      <td>0.020145</td>\n      <td>-0.058149</td>\n      <td>-0.002413</td>\n      <td>0.004660</td>\n      <td>-0.025828</td>\n      <td>0.021402</td>\n      <td>0.015338</td>\n      <td>-0.009097</td>\n      <td>-0.071199</td>\n      <td>0.022826</td>\n      <td>...</td>\n      <td>0.033568</td>\n      <td>-0.016118</td>\n      <td>0.017756</td>\n      <td>-0.040872</td>\n      <td>-0.022874</td>\n      <td>-0.007228</td>\n      <td>-0.003124</td>\n      <td>0.027600</td>\n      <td>-0.038618</td>\n      <td>0.010317</td>\n    </tr>\n    <tr>\n      <th>std</th>\n      <td>0.056753</td>\n      <td>0.059005</td>\n      <td>0.058611</td>\n      <td>0.053306</td>\n      <td>0.055798</td>\n      <td>0.058016</td>\n      <td>0.059489</td>\n      <td>0.057002</td>\n      <td>0.064384</td>\n      <td>0.052777</td>\n      <td>...</td>\n      <td>0.054711</td>\n      <td>0.052290</td>\n      <td>0.054538</td>\n      <td>0.062498</td>\n      <td>0.058268</td>\n      <td>0.057150</td>\n      <td>0.053861</td>\n      <td>0.055997</td>\n      <td>0.054983</td>\n      <td>0.054863</td>\n    </tr>\n    <tr>\n      <th>min</th>\n      <td>-0.329646</td>\n      <td>-0.375279</td>\n      <td>-0.448493</td>\n      <td>-0.387213</td>\n      <td>-0.384694</td>\n      <td>-0.380243</td>\n      <td>-0.401113</td>\n      <td>-0.420736</td>\n      <td>-0.513482</td>\n      <td>-0.312975</td>\n      <td>...</td>\n      <td>-0.395609</td>\n      <td>-0.344458</td>\n      <td>-0.347665</td>\n      <td>-0.411395</td>\n      <td>-0.404001</td>\n      <td>-0.389235</td>\n      <td>-0.351916</td>\n      <td>-0.304094</td>\n      <td>-0.367947</td>\n      <td>-0.338003</td>\n    </tr>\n    <tr>\n      <th>25%</th>\n      <td>-0.012970</td>\n      <td>-0.096241</td>\n      <td>-0.036395</td>\n      <td>-0.025288</td>\n      <td>-0.059551</td>\n      <td>-0.012045</td>\n      <td>-0.018934</td>\n      <td>-0.041093</td>\n      <td>-0.113991</td>\n      <td>-0.007827</td>\n      <td>...</td>\n      <td>0.001629</td>\n      <td>-0.047327</td>\n      <td>-0.013885</td>\n      <td>-0.080016</td>\n      <td>-0.056758</td>\n      <td>-0.038123</td>\n      <td>-0.033769</td>\n      <td>-0.005223</td>\n      <td>-0.072982</td>\n      <td>-0.021102</td>\n    </tr>\n    <tr>\n      <th>50%</th>\n      <td>0.020547</td>\n      <td>-0.059977</td>\n      <td>-0.003140</td>\n      <td>0.004886</td>\n      <td>-0.026730</td>\n      <td>0.020997</td>\n      <td>0.016616</td>\n      <td>-0.008150</td>\n      <td>-0.075291</td>\n      <td>0.023913</td>\n      <td>...</td>\n      <td>0.034768</td>\n      <td>-0.017698</td>\n      <td>0.018327</td>\n      <td>-0.043671</td>\n      <td>-0.022944</td>\n      <td>-0.004395</td>\n      <td>-0.001774</td>\n      <td>0.028801</td>\n      <td>-0.041266</td>\n      <td>0.009971</td>\n    </tr>\n    <tr>\n      <th>75%</th>\n      <td>0.053585</td>\n      <td>-0.021945</td>\n      <td>0.031077</td>\n      <td>0.034694</td>\n      <td>0.006395</td>\n      <td>0.054822</td>\n      <td>0.050354</td>\n      <td>0.023751</td>\n      <td>-0.032637</td>\n      <td>0.054279</td>\n      <td>...</td>\n      <td>0.067265</td>\n      <td>0.013781</td>\n      <td>0.050058</td>\n      <td>-0.004538</td>\n      <td>0.011044</td>\n      <td>0.027178</td>\n      <td>0.028154</td>\n      <td>0.061161</td>\n      <td>-0.006880</td>\n      <td>0.041844</td>\n    </tr>\n    <tr>\n      <th>max</th>\n      <td>0.416850</td>\n      <td>0.301096</td>\n      <td>0.432316</td>\n      <td>0.394424</td>\n      <td>0.320607</td>\n      <td>0.396551</td>\n      <td>0.392265</td>\n      <td>0.366123</td>\n      <td>0.370988</td>\n      <td>0.360288</td>\n      <td>...</td>\n      <td>0.338956</td>\n      <td>0.351744</td>\n      <td>0.359677</td>\n      <td>0.488684</td>\n      <td>0.340342</td>\n      <td>0.292156</td>\n      <td>0.329892</td>\n      <td>0.438893</td>\n      <td>0.348745</td>\n      <td>0.359883</td>\n    </tr>\n  </tbody>\n</table>\n<p>8 rows × 300 columns</p>\n</div>"
     },
     "execution_count": 15,
     "metadata": {},
     "output_type": "execute_result"
    }
   ],
   "source": [
    "df = pd.read_csv('./datasets/headline_vectors.csv', index_col='date', parse_dates=['date'])\n",
    "# df.head()\n",
    "df.describe()"
   ]
  },
  {
   "cell_type": "code",
   "execution_count": 12,
   "outputs": [],
   "source": [
    "#MEAN\n",
    "# df = df.resample('D').mean()\n",
    "#MEDIAN ?\n",
    "# df = df.resample('D').median()\n",
    "#MAX ?\n",
    "# df = df.resample('D').max()\n",
    "#MIN?\n",
    "df = df.resample('D').min()\n",
    "df.fillna(method='ffill', inplace=True)\n",
    "\n",
    "# from sklearn.preprocessing import MinMaxScaler\n",
    "# scaler = MinMaxScaler()\n",
    "# for i in range(len(df.columns)):\n",
    "#     df.iloc[:,i] = scaler.fit_transform(df.iloc[:,i].values.reshape(-1,1))"
   ],
   "metadata": {
    "collapsed": false,
    "pycharm": {
     "name": "#%%\n"
    }
   }
  },
  {
   "cell_type": "code",
   "execution_count": 2,
   "outputs": [
    {
     "data": {
      "text/plain": "<Client: 'inproc://192.168.1.11/16314/1' processes=1 threads=4, memory=2.00 GB>",
      "text/html": "<table style=\"border: 2px solid white;\">\n<tr>\n<td style=\"vertical-align: top; border: 0px solid white\">\n<h3 style=\"text-align: left;\">Client</h3>\n<ul style=\"text-align: left; list-style: none; margin: 0; padding: 0;\">\n  <li><b>Scheduler: </b>inproc://192.168.1.11/16314/1</li>\n  <li><b>Dashboard: </b><a href='http://192.168.1.11:8787/status' target='_blank'>http://192.168.1.11:8787/status</a></li>\n</ul>\n</td>\n<td style=\"vertical-align: top; border: 0px solid white\">\n<h3 style=\"text-align: left;\">Cluster</h3>\n<ul style=\"text-align: left; list-style:none; margin: 0; padding: 0;\">\n  <li><b>Workers: </b>1</li>\n  <li><b>Cores: </b>4</li>\n  <li><b>Memory: </b>2.00 GB</li>\n</ul>\n</td>\n</tr>\n</table>"
     },
     "execution_count": 2,
     "metadata": {},
     "output_type": "execute_result"
    }
   ],
   "source": [
    "# from dask.distributed import Client\n",
    "# import dask.dataframe as dd\n",
    "# client = Client(n_workers=1, threads_per_worker=4, processes=False, memory_limit='2GB')"
   ],
   "metadata": {
    "collapsed": false,
    "pycharm": {
     "name": "#%%\n"
    }
   }
  },
  {
   "cell_type": "code",
   "execution_count": 5,
   "outputs": [
    {
     "ename": "AttributeError",
     "evalue": "'Resampler' object has no attribute 'apply'",
     "output_type": "error",
     "traceback": [
      "\u001B[0;31m---------------------------------------------------------------------------\u001B[0m",
      "\u001B[0;31mAttributeError\u001B[0m                            Traceback (most recent call last)",
      "\u001B[0;32m<ipython-input-5-1bba3cac84fa>\u001B[0m in \u001B[0;36m<module>\u001B[0;34m\u001B[0m\n\u001B[1;32m     10\u001B[0m \u001B[0;34m\u001B[0m\u001B[0m\n\u001B[1;32m     11\u001B[0m \u001B[0;31m#resample\u001B[0m\u001B[0;34m\u001B[0m\u001B[0;34m\u001B[0m\u001B[0;34m\u001B[0m\u001B[0m\n\u001B[0;32m---> 12\u001B[0;31m \u001B[0mdf\u001B[0m \u001B[0;34m=\u001B[0m \u001B[0mdf\u001B[0m\u001B[0;34m.\u001B[0m\u001B[0mresample\u001B[0m\u001B[0;34m(\u001B[0m\u001B[0;34m'D'\u001B[0m\u001B[0;34m)\u001B[0m\u001B[0;34m.\u001B[0m\u001B[0mapply\u001B[0m\u001B[0;34m(\u001B[0m\u001B[0mmin_dist\u001B[0m\u001B[0;34m)\u001B[0m\u001B[0;34m\u001B[0m\u001B[0;34m\u001B[0m\u001B[0m\n\u001B[0m\u001B[1;32m     13\u001B[0m \u001B[0;34m\u001B[0m\u001B[0m\n\u001B[1;32m     14\u001B[0m \u001B[0;34m\u001B[0m\u001B[0m\n",
      "\u001B[0;31mAttributeError\u001B[0m: 'Resampler' object has no attribute 'apply'"
     ]
    }
   ],
   "source": [
    "#MIN_DIST\n",
    "# df = df.assign(vec=df.apply(\n",
    "#     lambda x: ','.join(x.dropna().astype(str)),\n",
    "#     axis=1))\n",
    "# df = df.loc[:, 'vec']\n",
    "# df = df.map(lambda p: p.split(','))\n",
    "# df = df.map(lambda p: [float(i) for i in p])\n",
    "# df.head()\n",
    "\n",
    "\n",
    "#resample\n",
    "df = df.resample('D').apply(min_dist)\n",
    "\n",
    "\n",
    "# df.fillna(method='ffill', inplace=True)"
   ],
   "metadata": {
    "collapsed": false,
    "pycharm": {
     "name": "#%%\n"
    }
   }
  },
  {
   "cell_type": "code",
   "execution_count": 14,
   "outputs": [],
   "source": [
    "#read/write to csv\n",
    "\n",
    "df.to_csv('./datasets/headline_vectors_grouped.csv')\n",
    "# df = pd.read_csv('./datasets/headline_vectors_grouped.csv', index_col='date', parse_dates=['date'])"
   ],
   "metadata": {
    "collapsed": false,
    "pycharm": {
     "name": "#%%\n"
    }
   }
  },
  {
   "cell_type": "code",
   "execution_count": null,
   "outputs": [],
   "source": [
    "#create shifted observations\n",
    "\n",
    "# lag = 11 #10+1 so we don't use headlines from same day (leakage)\n",
    "# shifted = pd.DataFrame(index=df.index)\n",
    "# for i in range(len(df.columns)):\n",
    "#     temp = timeseries_to_supervised(df,str(i), lag)\n",
    "#     temp.drop(str(i)+'_t', axis=1, inplace=True)  #drop same day\n",
    "#     shifted = pd.concat([shifted, temp], axis=1)\n",
    "# shifted.dropna(inplace=True)\n",
    "# shifted.drop(shifted.head(1).index, inplace=True) # perc_change was used in price so we drop first row to align with price\n",
    "# print(shifted.head())\n",
    "# shifted = shifted.to_numpy()\n",
    "# shifted = shifted.reshape(shifted.shape[0], lag-1, int(shifted.shape[1]/(lag-1)), order='F')\n",
    "# print(shifted.shape)"
   ],
   "metadata": {
    "collapsed": false,
    "pycharm": {
     "name": "#%%\n"
    }
   }
  }
 ],
 "metadata": {
  "kernelspec": {
   "name": "ptyxiaki",
   "language": "python",
   "display_name": "Ptyxiaki"
  },
  "language_info": {
   "codemirror_mode": {
    "name": "ipython",
    "version": 2
   },
   "file_extension": ".py",
   "mimetype": "text/x-python",
   "name": "python",
   "nbconvert_exporter": "python",
   "pygments_lexer": "ipython2",
   "version": "2.7.6"
  }
 },
 "nbformat": 4,
 "nbformat_minor": 0
}