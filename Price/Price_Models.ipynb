{
 "nbformat": 4,
 "nbformat_minor": 0,
 "metadata": {
  "accelerator": "GPU",
  "colab": {
   "name": "Price_Models.ipynb",
   "provenance": [],
   "collapsed_sections": []
  },
  "kernelspec": {
   "name": "ptyxiaki",
   "language": "python",
   "display_name": "Ptyxiaki"
  }
 },
 "cells": [
  {
   "cell_type": "code",
   "metadata": {
    "id": "QFyPYC1--RN9"
   },
   "source": [
    "from pckgs.helper import PnlCallback\n",
    "from tensorflow.keras.models import load_model\n",
    "from tensorflow.keras.callbacks import EarlyStopping, ModelCheckpoint\n",
    "from sklearn.model_selection import train_test_split\n",
    "import pandas as pd\n",
    "import numpy as  np\n",
    "import matplotlib.pyplot as plt\n",
    "import seaborn as sb\n",
    "from pckgs.models import get_model_price\n",
    "from tensorflow.keras.models import Sequential\n",
    "from tensorflow.keras.regularizers import l1, l2\n",
    "from pckgs.evaluator import Evaluator\n",
    "from sklearn.metrics import classification_report\n",
    "\n",
    "from tensorflow.keras.layers import Dense, Reshape, LSTM, Dropout, Bidirectional\n",
    "from tensorflow.keras.optimizers import Adam, SGD\n",
    "%load_ext autoreload\n",
    "%autoreload 2"
   ],
   "execution_count": 1,
   "outputs": []
  },
  {
   "cell_type": "code",
   "metadata": {
    "id": "5DO_CV9U-RZE"
   },
   "source": [
    "#read\n",
    "# df = pd.read_csv('./datasets/bitcoin_position_day.csv', header=0, parse_dates=['Timestamp'], index_col='Timestamp')\n",
    "df = pd.read_csv('./datasets/bitcoin_position_hour.csv', header=0, parse_dates=['Timestamp'], index_col='Timestamp')\n",
    "\n",
    "#split\n",
    "y = df.loc[:, ['down', 'same', 'up']]\n",
    "x = df.drop(['down', 'same', 'up'], axis=1)\n",
    "x_train, x_test, y_train, y_test = train_test_split(x, y, test_size=0.2, shuffle=False)\n",
    "\n",
    "y_index = y_test.index\n",
    "x_index = y_train.index"
   ],
   "execution_count": 9,
   "outputs": []
  },
  {
   "cell_type": "code",
   "execution_count": 11,
   "outputs": [],
   "source": [
    "#create labeled y_test to measure pnl, confusion matrix\n",
    "y_test_labeled = y_test.rename(columns={'down': -1, 'same': 0, 'up': 1})\n",
    "y_test_labeled = y_test_labeled.idxmax(axis=1)\n",
    "\n",
    "y_train_labeled = y_train.rename(columns={'down': -1, 'same': 0, 'up': 1})\n",
    "y_train_labeled = y_train_labeled.idxmax(axis=1)"
   ],
   "metadata": {
    "collapsed": false,
    "pycharm": {
     "name": "#%%\n"
    }
   }
  },
  {
   "cell_type": "code",
   "execution_count": 12,
   "outputs": [],
   "source": [
    "# df_candle = pd.read_csv('../Price/datasets/bitcoin_candle_day.csv', header=0, parse_dates=['Timestamp'])\n",
    "df_candle = pd.read_csv('../Price/datasets/bitcoin_candle_hour.csv', header=0, parse_dates=['Timestamp'])\n",
    "df_candle.rename(columns={'Timestamp':'date'}, inplace=True)\n",
    "df_candle.set_index('date', inplace=True)\n",
    "df_candle.rename(columns={'Open': 'open', 'Low': 'low', 'High': 'high', 'Close': 'close'}, inplace=True)\n",
    "# align dates\n",
    "df_candle_y = df_candle.reindex(y_index)\n",
    "df_candle_x = df_candle.reindex(x_index)\n",
    "# print(df_candle)\n",
    "# print(x_test)"
   ],
   "metadata": {
    "collapsed": false,
    "pycharm": {
     "name": "#%%\n"
    }
   }
  },
  {
   "cell_type": "code",
   "execution_count": 13,
   "outputs": [
    {
     "name": "stdout",
     "output_type": "stream",
     "text": [
      "down  same  up\n",
      "0     0     1     13888\n",
      "1     0     0     12829\n",
      "0     1     0      8307\n",
      "dtype: int64\n"
     ]
    }
   ],
   "source": [
    "print(y_train.value_counts())"
   ],
   "metadata": {
    "collapsed": false,
    "pycharm": {
     "name": "#%%\n"
    }
   }
  },
  {
   "cell_type": "code",
   "execution_count": 14,
   "outputs": [],
   "source": [
    "model = get_model_price()"
   ],
   "metadata": {
    "collapsed": false,
    "pycharm": {
     "name": "#%%\n"
    }
   }
  },
  {
   "cell_type": "code",
   "execution_count": null,
   "outputs": [],
   "source": [
    "es = EarlyStopping(monitor='val_loss', mode='min', min_delta=0.001, verbose=0, patience=60)\n",
    "mc = ModelCheckpoint('model_price.h5',verbose=0, save_best_only=True)    #MLP\n",
    "\n",
    "history = model.fit(x=x_train, y=y_train, validation_data=(x_test, y_test), batch_size=32,\n",
    "                    epochs=300, verbose=0, callbacks=[es, mc])#, shuffle=False)\n",
    "\n",
    "model = load_model('model_price.h5')"
   ],
   "metadata": {
    "collapsed": false,
    "pycharm": {
     "name": "#%%\n",
     "is_executing": true
    }
   }
  },
  {
   "cell_type": "code",
   "metadata": {
    "id": "305AEiS0M7Bk",
    "colab": {
     "base_uri": "https://localhost:8080/",
     "height": 530
    },
    "outputId": "03dcbca3-6a04-4f58-918c-dfb9de9ec55e",
    "pycharm": {
     "name": "#%%\n",
     "is_executing": true
    }
   },
   "source": [
    "ac = {'accuracy': history.history['accuracy'], 'val_accuracy': history.history['val_accuracy']}\n",
    "plt.figure()\n",
    "sb.lineplot(data=ac)\n",
    "\n",
    "loss = {'loss': history.history['loss'], 'val_loss': history.history['val_loss']}\n",
    "plt.figure()\n",
    "sb.lineplot(data=loss)"
   ],
   "execution_count": null,
   "outputs": []
  },
  {
   "cell_type": "code",
   "execution_count": null,
   "outputs": [],
   "source": [
    "#create labeled y_pred for pnl, confusion matrix\n",
    "y_pred = model.predict(x_test)\n",
    "y_pred_labeled = pd.DataFrame(y_pred, columns=[-1, 0, 1], index=y_index)\n",
    "y_pred_labeled = y_pred_labeled.idxmax(axis=1)\n",
    "\n",
    "Evaluator.evaluate(y_pred_labeled, y_test_labeled, df_candle_y, force=False)"
   ],
   "metadata": {
    "collapsed": false,
    "pycharm": {
     "name": "#%%\n",
     "is_executing": true
    }
   }
  },
  {
   "cell_type": "code",
   "execution_count": null,
   "outputs": [],
   "source": [
    "y_predt = model.predict(x_train)\n",
    "y_predt_labeled = pd.DataFrame(y_predt, columns=[-1, 0, 1], index=x_index)\n",
    "y_predt_labeled = y_predt_labeled.idxmax(axis=1)\n",
    "\n",
    "Evaluator.evaluate(y_predt_labeled, y_train_labeled, df_candle_x, force=False)"
   ],
   "metadata": {
    "collapsed": false,
    "pycharm": {
     "name": "#%%\n",
     "is_executing": true
    }
   }
  },
  {
   "cell_type": "code",
   "execution_count": null,
   "outputs": [],
   "source": [
    "print(classification_report(y_test_labeled, y_pred_labeled))"
   ],
   "metadata": {
    "collapsed": false,
    "pycharm": {
     "name": "#%%\n",
     "is_executing": true
    }
   }
  },
  {
   "cell_type": "code",
   "execution_count": null,
   "outputs": [],
   "source": [
    "#test\n",
    "temp =  {'train_accuracy':[], 'train_f1':[], 'test_accuracy':[], 'test_f1':[]}\n",
    "\n",
    "for i in range(10):\n",
    "    model = get_model_price()\n",
    "    es = EarlyStopping(monitor='val_loss', mode='min', min_delta=0.001, verbose=0, patience=60)\n",
    "    mc = ModelCheckpoint('model_price.h5',verbose=0, save_best_only=True)    #MLP\n",
    "\n",
    "    history = model.fit(x=x_train, y=y_train, validation_data=(x_test, y_test), batch_size=32\n",
    "                        ,epochs=300, verbose=0, callbacks=[es, mc])#, shuffle=False)\n",
    "    model = load_model('model_price.h5')\n",
    "    y_pred = model.predict(x_test)\n",
    "    y_pred_labeled = pd.DataFrame(y_pred, columns=[-1, 0, 1], index=y_index)\n",
    "    y_pred_labeled = y_pred_labeled.idxmax(axis=1)\n",
    "    y_predt = model.predict(x_train)\n",
    "    y_predt_labeled = pd.DataFrame(y_predt, columns=[-1, 0, 1], index=x_index)\n",
    "    y_predt_labeled = y_predt_labeled.idxmax(axis=1)\n",
    "    results_test = classification_report(y_test_labeled, y_pred_labeled, output_dict=True)\n",
    "    temp['test_accuracy'].append(results_test['accuracy'])\n",
    "    temp['test_f1'].append(results_test['weighted avg']['f1-score'])\n",
    "    results_test = classification_report(y_train_labeled, y_predt_labeled, output_dict=True)\n",
    "    temp['train_accuracy'].append(results_test['accuracy'])\n",
    "    temp['train_f1'].append(results_test['weighted avg']['f1-score'])\n",
    "temp"
   ],
   "metadata": {
    "collapsed": false,
    "pycharm": {
     "name": "#%%\n"
    }
   }
  },
  {
   "cell_type": "code",
   "execution_count": null,
   "outputs": [],
   "source": [
    "import statistics\n",
    "\n",
    "print(statistics.mean(temp['train_f1']))\n",
    "print(statistics.mean(temp['test_f1']))\n",
    "print(statistics.mean(temp['train_accuracy']))\n",
    "print(statistics.mean(temp['test_accuracy']))"
   ],
   "metadata": {
    "collapsed": false,
    "pycharm": {
     "name": "#%%\n"
    }
   }
  },
  {
   "cell_type": "code",
   "execution_count": null,
   "outputs": [],
   "source": [
    "plt.figure(figsize=(10,5))\n",
    "for i in range(5):\n",
    "    model = get_model_price()\n",
    "    es = EarlyStopping(monitor='val_loss', mode='min', min_delta=0.001, verbose=0, patience=60)\n",
    "    mc = ModelCheckpoint('model_price.h5',verbose=0, save_best_only=True,)\n",
    "    history = model.fit(x=x_train, y=y_train, validation_data=(x_test, y_test), batch_size=32,\n",
    "                        # class_weight=class_weights,\n",
    "                        epochs=300, callbacks=[mc, es], verbose=0)\n",
    "\n",
    "    model = load_model('model_price.h5')\n",
    "    y_pred = model.predict(x_test)\n",
    "    y_pred_labeled = pd.DataFrame(y_pred, columns=[-1, 0, 1], index=y_index)\n",
    "    y_pred_labeled = y_pred_labeled.idxmax(axis=1)\n",
    "    pnl = Evaluator.get_pnl(y_pred_labeled, df_candle_y)\n",
    "    sb.lineplot(x=pnl.index, y=pnl)"
   ],
   "metadata": {
    "collapsed": false,
    "pycharm": {
     "name": "#%%\n"
    }
   }
  }
 ]
}