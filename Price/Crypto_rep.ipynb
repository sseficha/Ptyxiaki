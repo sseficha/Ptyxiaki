{
 "cells": [
  {
   "cell_type": "code",
   "execution_count": null,
   "outputs": [],
   "source": [
    "import pandas as pd\n",
    "import seaborn as sb\n",
    "import matplotlib.pyplot as plt\n",
    "from sklearn.metrics import classification_report\n",
    "from pckgs.headline_preprocess import HeadlinePreprocess\n",
    "from pckgs.helper import timeseries_to_supervised2, custom_split\n",
    "from pckgs.models import get_model_price, train_model, get_model_both_sent, get_model_both_emb\n",
    "from pckgs.price_preprocess import PricePreprocess\n",
    "from sklearn.model_selection import train_test_split\n",
    "from pckgs.evaluator import Evaluator\n",
    "import numpy as np\n",
    "%load_ext autoreload\n",
    "%autoreload 2\n",
    "from IPython.core.interactiveshell import InteractiveShell\n",
    "InteractiveShell.ast_node_interactivity = \"all\"\n",
    "pd.options.display.max_seq_items = 400"
   ],
   "metadata": {
    "collapsed": false,
    "pycharm": {
     "name": "#%%\n"
    }
   }
  },
  {
   "cell_type": "code",
   "execution_count": null,
   "outputs": [],
   "source": [
    "coins = {}\n",
    "coin_names = ['BTC_USD', 'ETH_USD', 'LTC_USD','BCH_USD', ]#, 'XLM_USD', 'XRP_USD']\n",
    "coin_dirs = []\n",
    "for i in range(len(coin_names)): coin_dirs.append('./datasets/coinbase_hour_candles/' + coin_names[i] + '.feather')\n",
    "coins = {coin_names[i]:coin_dirs[i] for i in range(len(coin_names))}\n",
    "coins\n",
    "\n",
    "\n",
    "# problem = 'p'\n",
    "problem = 'pp'\n",
    "# problem = 'pe'\n",
    "\n",
    "start_timestamp = '2017-01-01 00:00:00'\n",
    "split_timestamp = '2019-06-30 00:00:00'\n",
    "end_timestamp = '2019-12-31 23:00:00'\n",
    "\n",
    "lag = 21\n",
    "# threshold = 0.0025\n",
    "threshold = 0.1\n",
    "pp = PricePreprocess(lag, threshold)"
   ],
   "metadata": {
    "collapsed": false,
    "pycharm": {
     "name": "#%%\n"
    }
   }
  },
  {
   "cell_type": "code",
   "execution_count": null,
   "outputs": [],
   "source": [
    "plt.figure(figsize=(10,8))\n",
    "# plt.ylim(0,5000)\n",
    "for coin in coins:\n",
    "    candle = pd.read_feather(coins[coin])\n",
    "    candle.set_index('time', inplace=True)\n",
    "    candle.index = candle.index.tz_localize(None)\n",
    "    sb.lineplot(data=candle, x=candle.index, y='close', label=coin)"
   ],
   "metadata": {
    "collapsed": false,
    "pycharm": {
     "name": "#%%\n"
    }
   }
  },
  {
   "cell_type": "code",
   "execution_count": null,
   "outputs": [],
   "source": [
    "#one coin\n",
    "# x_train, y_train, x_test, y_test = custom_split(pp, [coins['ETH_USD']], problem, start_timestamp, split_timestamp, end_timestamp)\n",
    "\n",
    "#many coins\n",
    "x_train, y_train, x_test, y_test = custom_split(pp, coins.values(), problem, start_timestamp, split_timestamp, end_timestamp)"
   ],
   "metadata": {
    "collapsed": false,
    "pycharm": {
     "name": "#%%\n"
    }
   }
  },
  {
   "cell_type": "code",
   "execution_count": null,
   "outputs": [],
   "source": [
    "if problem == 'p':\n",
    "    model = get_model_price()\n",
    "    model, history = train_model(model, (x_train, x_test, y_train, y_test), '../models/model_price.h5', epochs=200, verbose=1)\n",
    "elif problem =='pp':\n",
    "    model = get_model_both_sent()\n",
    "    model, history = train_model(model, (x_train, x_test, y_train, y_test), '../models/model_both_sent.h5', epochs=200)\n",
    "# elif problem =='pe':\n",
    "#     model = get_model_both_emb()\n",
    "#     model, history = train_model(model, (x_train, x_test, y_train, y_test), '../models/model_both_sent.h5', epochs=2)\n",
    "\n",
    "\n",
    "ac = {'accuracy': history.history['accuracy'], 'val_accuracy': history.history['val_accuracy']}\n",
    "plt.figure()\n",
    "sb.lineplot(data=ac)\n",
    "\n",
    "loss = {'loss': history.history['loss'], 'val_loss': history.history['val_loss']}\n",
    "plt.figure()\n",
    "sb.lineplot(data=loss)"
   ],
   "metadata": {
    "collapsed": false,
    "pycharm": {
     "name": "#%%\n"
    }
   }
  },
  {
   "cell_type": "code",
   "execution_count": null,
   "outputs": [],
   "source": [
    "coin = 'BTC_USD'\n",
    "x_train, y_train, x_test, y_test = custom_split(pp, [coins[coin]], problem, start_timestamp, split_timestamp, end_timestamp)\n",
    "candle = pd.read_feather(coins[coin])\n",
    "candle.set_index('time', inplace=True)\n",
    "candle.index = candle.index.tz_localize(None)\n",
    "\n",
    "test_index = y_test.index\n",
    "train_index = y_train.index\n",
    "\n",
    "\n",
    "#create labeled y_test to measure pnl, confusion matrix\n",
    "y_test_labeled = y_test.rename(columns={'down': -1, 'same': 0, 'up': 1})\n",
    "y_test_labeled = y_test_labeled.idxmax(axis=1)\n",
    "\n",
    "y_train_labeled = y_train.rename(columns={'down': -1, 'same': 0, 'up': 1})\n",
    "y_train_labeled = y_train_labeled.idxmax(axis=1)\n",
    "\n",
    "\n",
    "test_candle = candle.reindex(test_index)\n",
    "train_candle = candle.reindex(train_index)\n",
    "\n",
    "#create labeled y_pred for pnl, confusion matrix\n",
    "y_pred = model.predict(x_test)\n",
    "y_pred_labeled = pd.DataFrame(y_pred, columns=[-1, 0, 1], index=test_index)\n",
    "y_pred_labeled = y_pred_labeled.idxmax(axis=1)\n",
    "\n",
    "Evaluator.evaluate(y_pred_labeled, y_test_labeled, test_candle)\n",
    "print(classification_report(y_test_labeled, y_pred_labeled))"
   ],
   "metadata": {
    "collapsed": false,
    "pycharm": {
     "name": "#%%\n"
    }
   }
  },
  {
   "cell_type": "code",
   "execution_count": null,
   "outputs": [],
   "source": [
    "y_predt = model.predict(x_train)\n",
    "y_predt_labeled = pd.DataFrame(y_predt, columns=[-1, 0, 1], index=train_index)\n",
    "y_predt_labeled = y_predt_labeled.idxmax(axis=1)\n",
    "\n",
    "Evaluator.evaluate(y_predt_labeled, y_train_labeled, train_candle)\n",
    "print(classification_report(y_train_labeled, y_predt_labeled))"
   ],
   "metadata": {
    "collapsed": false,
    "pycharm": {
     "name": "#%%\n"
    }
   }
  },
  {
   "cell_type": "code",
   "execution_count": null,
   "outputs": [],
   "source": [],
   "metadata": {
    "collapsed": false,
    "pycharm": {
     "name": "#%%\n"
    }
   }
  }
 ],
 "metadata": {
  "kernelspec": {
   "name": "ptyxiaki",
   "language": "python",
   "display_name": "Ptyxiaki"
  },
  "language_info": {
   "codemirror_mode": {
    "name": "ipython",
    "version": 2
   },
   "file_extension": ".py",
   "mimetype": "text/x-python",
   "name": "python",
   "nbconvert_exporter": "python",
   "pygments_lexer": "ipython2",
   "version": "2.7.6"
  }
 },
 "nbformat": 4,
 "nbformat_minor": 0
}