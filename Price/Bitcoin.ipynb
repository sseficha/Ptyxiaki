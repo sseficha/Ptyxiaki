{
 "cells": [
  {
   "cell_type": "code",
   "execution_count": 1,
   "metadata": {
    "collapsed": true
   },
   "outputs": [],
   "source": [
    "%load_ext autoreload\n",
    "%autoreload 2\n",
    "from pckgs.price_preprocess import *\n",
    "import pandas as pd\n",
    "from pckgs.helper import timeseries_to_supervised2"
   ]
  },
  {
   "cell_type": "code",
   "execution_count": 25,
   "metadata": {
    "pycharm": {
     "name": "#%%\n"
    }
   },
   "outputs": [
    {
     "name": "stdout",
     "output_type": "stream",
     "text": [
      "\n",
      " Value of observations: \n",
      "\n",
      "up      17288\n",
      "down    16114\n",
      "same    10378\n",
      "Name: pChange, dtype: int64\n"
     ]
    },
    {
     "data": {
      "text/plain": "                     pChange_scaled_t-1  pChange_scaled_t-2  \\\nTimestamp                                                     \n2015-01-01 21:00:00            0.086887            0.083943   \n2015-01-01 22:00:00            0.054519            0.086887   \n2015-01-01 23:00:00            0.110279            0.054519   \n2015-01-02 00:00:00            0.043229            0.110279   \n2015-01-02 01:00:00            0.069892            0.043229   \n...                                 ...                 ...   \n2019-12-30 20:00:00            0.071178            0.063688   \n2019-12-30 21:00:00            0.119958            0.071178   \n2019-12-30 22:00:00            0.080719            0.119958   \n2019-12-30 23:00:00            0.100425            0.080719   \n2019-12-31 00:00:00            0.041643            0.100425   \n\n                     pChange_scaled_t-3  pChange_scaled_t-4  \\\nTimestamp                                                     \n2015-01-01 21:00:00            0.081736            0.096227   \n2015-01-01 22:00:00            0.083943            0.081736   \n2015-01-01 23:00:00            0.086887            0.083943   \n2015-01-02 00:00:00            0.054519            0.086887   \n2015-01-02 01:00:00            0.110279            0.054519   \n...                                 ...                 ...   \n2019-12-30 20:00:00            0.092897            0.073667   \n2019-12-30 21:00:00            0.063688            0.092897   \n2019-12-30 22:00:00            0.071178            0.063688   \n2019-12-30 23:00:00            0.119958            0.071178   \n2019-12-31 00:00:00            0.080719            0.119958   \n\n                     pChange_scaled_t-5  pChange_scaled_t-6  \\\nTimestamp                                                     \n2015-01-01 21:00:00            0.125195            0.037294   \n2015-01-01 22:00:00            0.096227            0.125195   \n2015-01-01 23:00:00            0.081736            0.096227   \n2015-01-02 00:00:00            0.083943            0.081736   \n2015-01-02 01:00:00            0.086887            0.083943   \n...                                 ...                 ...   \n2019-12-30 20:00:00            0.038432            0.063474   \n2019-12-30 21:00:00            0.073667            0.038432   \n2019-12-30 22:00:00            0.092897            0.073667   \n2019-12-30 23:00:00            0.063688            0.092897   \n2019-12-31 00:00:00            0.071178            0.063688   \n\n                     pChange_scaled_t-7  pChange_scaled_t-8  \\\nTimestamp                                                     \n2015-01-01 21:00:00            0.056539            0.068556   \n2015-01-01 22:00:00            0.037294            0.056539   \n2015-01-01 23:00:00            0.125195            0.037294   \n2015-01-02 00:00:00            0.096227            0.125195   \n2015-01-02 01:00:00            0.081736            0.096227   \n...                                 ...                 ...   \n2019-12-30 20:00:00            0.106966            0.066870   \n2019-12-30 21:00:00            0.063474            0.106966   \n2019-12-30 22:00:00            0.038432            0.063474   \n2019-12-30 23:00:00            0.073667            0.038432   \n2019-12-31 00:00:00            0.092897            0.073667   \n\n                     pChange_scaled_t-9  pChange_scaled_t-10  ...  \\\nTimestamp                                                     ...   \n2015-01-01 21:00:00            0.114344             0.081982  ...   \n2015-01-01 22:00:00            0.068556             0.114344  ...   \n2015-01-01 23:00:00            0.056539             0.068556  ...   \n2015-01-02 00:00:00            0.037294             0.056539  ...   \n2015-01-02 01:00:00            0.125195             0.037294  ...   \n...                                 ...                  ...  ...   \n2019-12-30 20:00:00            0.094771             0.055901  ...   \n2019-12-30 21:00:00            0.066870             0.094771  ...   \n2019-12-30 22:00:00            0.106966             0.066870  ...   \n2019-12-30 23:00:00            0.063474             0.106966  ...   \n2019-12-31 00:00:00            0.038432             0.063474  ...   \n\n                     pChange_scaled_t-14  pChange_scaled_t-15  \\\nTimestamp                                                       \n2015-01-01 21:00:00             0.095725             0.113515   \n2015-01-01 22:00:00             0.097421             0.095725   \n2015-01-01 23:00:00             0.092504             0.097421   \n2015-01-02 00:00:00             0.058774             0.092504   \n2015-01-02 01:00:00             0.081982             0.058774   \n...                                  ...                  ...   \n2019-12-30 20:00:00             0.082286             0.079556   \n2019-12-30 21:00:00             0.087163             0.082286   \n2019-12-30 22:00:00             0.066927             0.087163   \n2019-12-30 23:00:00             0.045141             0.066927   \n2019-12-31 00:00:00             0.055901             0.045141   \n\n                     pChange_scaled_t-16  pChange_scaled_t-17  \\\nTimestamp                                                       \n2015-01-01 21:00:00             0.082960            -0.023224   \n2015-01-01 22:00:00             0.113515             0.082960   \n2015-01-01 23:00:00             0.095725             0.113515   \n2015-01-02 00:00:00             0.097421             0.095725   \n2015-01-02 01:00:00             0.092504             0.097421   \n...                                  ...                  ...   \n2019-12-30 20:00:00             0.111863             0.070875   \n2019-12-30 21:00:00             0.079556             0.111863   \n2019-12-30 22:00:00             0.082286             0.079556   \n2019-12-30 23:00:00             0.087163             0.082286   \n2019-12-31 00:00:00             0.066927             0.087163   \n\n                     pChange_scaled_t-18  pChange_scaled_t-19  \\\nTimestamp                                                       \n2015-01-01 21:00:00             0.096109             0.092469   \n2015-01-01 22:00:00            -0.023224             0.096109   \n2015-01-01 23:00:00             0.082960            -0.023224   \n2015-01-02 00:00:00             0.113515             0.082960   \n2015-01-02 01:00:00             0.095725             0.113515   \n...                                  ...                  ...   \n2019-12-30 20:00:00             0.092725             0.097334   \n2019-12-30 21:00:00             0.070875             0.092725   \n2019-12-30 22:00:00             0.111863             0.070875   \n2019-12-30 23:00:00             0.079556             0.111863   \n2019-12-31 00:00:00             0.082286             0.079556   \n\n                     pChange_scaled_t-20  down  same  up  \nTimestamp                                                 \n2015-01-01 21:00:00             0.031173     1     0   0  \n2015-01-01 22:00:00             0.092469     0     0   1  \n2015-01-01 23:00:00             0.096109     1     0   0  \n2015-01-02 00:00:00            -0.023224     1     0   0  \n2015-01-02 01:00:00             0.082960     0     0   1  \n...                                  ...   ...   ...  ..  \n2019-12-30 20:00:00             0.024223     0     0   1  \n2019-12-30 21:00:00             0.097334     0     1   0  \n2019-12-30 22:00:00             0.092725     0     0   1  \n2019-12-30 23:00:00             0.070875     1     0   0  \n2019-12-31 00:00:00             0.111863     1     0   0  \n\n[43780 rows x 23 columns]",
      "text/html": "<div>\n<style scoped>\n    .dataframe tbody tr th:only-of-type {\n        vertical-align: middle;\n    }\n\n    .dataframe tbody tr th {\n        vertical-align: top;\n    }\n\n    .dataframe thead th {\n        text-align: right;\n    }\n</style>\n<table border=\"1\" class=\"dataframe\">\n  <thead>\n    <tr style=\"text-align: right;\">\n      <th></th>\n      <th>pChange_scaled_t-1</th>\n      <th>pChange_scaled_t-2</th>\n      <th>pChange_scaled_t-3</th>\n      <th>pChange_scaled_t-4</th>\n      <th>pChange_scaled_t-5</th>\n      <th>pChange_scaled_t-6</th>\n      <th>pChange_scaled_t-7</th>\n      <th>pChange_scaled_t-8</th>\n      <th>pChange_scaled_t-9</th>\n      <th>pChange_scaled_t-10</th>\n      <th>...</th>\n      <th>pChange_scaled_t-14</th>\n      <th>pChange_scaled_t-15</th>\n      <th>pChange_scaled_t-16</th>\n      <th>pChange_scaled_t-17</th>\n      <th>pChange_scaled_t-18</th>\n      <th>pChange_scaled_t-19</th>\n      <th>pChange_scaled_t-20</th>\n      <th>down</th>\n      <th>same</th>\n      <th>up</th>\n    </tr>\n    <tr>\n      <th>Timestamp</th>\n      <th></th>\n      <th></th>\n      <th></th>\n      <th></th>\n      <th></th>\n      <th></th>\n      <th></th>\n      <th></th>\n      <th></th>\n      <th></th>\n      <th></th>\n      <th></th>\n      <th></th>\n      <th></th>\n      <th></th>\n      <th></th>\n      <th></th>\n      <th></th>\n      <th></th>\n      <th></th>\n      <th></th>\n    </tr>\n  </thead>\n  <tbody>\n    <tr>\n      <th>2015-01-01 21:00:00</th>\n      <td>0.086887</td>\n      <td>0.083943</td>\n      <td>0.081736</td>\n      <td>0.096227</td>\n      <td>0.125195</td>\n      <td>0.037294</td>\n      <td>0.056539</td>\n      <td>0.068556</td>\n      <td>0.114344</td>\n      <td>0.081982</td>\n      <td>...</td>\n      <td>0.095725</td>\n      <td>0.113515</td>\n      <td>0.082960</td>\n      <td>-0.023224</td>\n      <td>0.096109</td>\n      <td>0.092469</td>\n      <td>0.031173</td>\n      <td>1</td>\n      <td>0</td>\n      <td>0</td>\n    </tr>\n    <tr>\n      <th>2015-01-01 22:00:00</th>\n      <td>0.054519</td>\n      <td>0.086887</td>\n      <td>0.083943</td>\n      <td>0.081736</td>\n      <td>0.096227</td>\n      <td>0.125195</td>\n      <td>0.037294</td>\n      <td>0.056539</td>\n      <td>0.068556</td>\n      <td>0.114344</td>\n      <td>...</td>\n      <td>0.097421</td>\n      <td>0.095725</td>\n      <td>0.113515</td>\n      <td>0.082960</td>\n      <td>-0.023224</td>\n      <td>0.096109</td>\n      <td>0.092469</td>\n      <td>0</td>\n      <td>0</td>\n      <td>1</td>\n    </tr>\n    <tr>\n      <th>2015-01-01 23:00:00</th>\n      <td>0.110279</td>\n      <td>0.054519</td>\n      <td>0.086887</td>\n      <td>0.083943</td>\n      <td>0.081736</td>\n      <td>0.096227</td>\n      <td>0.125195</td>\n      <td>0.037294</td>\n      <td>0.056539</td>\n      <td>0.068556</td>\n      <td>...</td>\n      <td>0.092504</td>\n      <td>0.097421</td>\n      <td>0.095725</td>\n      <td>0.113515</td>\n      <td>0.082960</td>\n      <td>-0.023224</td>\n      <td>0.096109</td>\n      <td>1</td>\n      <td>0</td>\n      <td>0</td>\n    </tr>\n    <tr>\n      <th>2015-01-02 00:00:00</th>\n      <td>0.043229</td>\n      <td>0.110279</td>\n      <td>0.054519</td>\n      <td>0.086887</td>\n      <td>0.083943</td>\n      <td>0.081736</td>\n      <td>0.096227</td>\n      <td>0.125195</td>\n      <td>0.037294</td>\n      <td>0.056539</td>\n      <td>...</td>\n      <td>0.058774</td>\n      <td>0.092504</td>\n      <td>0.097421</td>\n      <td>0.095725</td>\n      <td>0.113515</td>\n      <td>0.082960</td>\n      <td>-0.023224</td>\n      <td>1</td>\n      <td>0</td>\n      <td>0</td>\n    </tr>\n    <tr>\n      <th>2015-01-02 01:00:00</th>\n      <td>0.069892</td>\n      <td>0.043229</td>\n      <td>0.110279</td>\n      <td>0.054519</td>\n      <td>0.086887</td>\n      <td>0.083943</td>\n      <td>0.081736</td>\n      <td>0.096227</td>\n      <td>0.125195</td>\n      <td>0.037294</td>\n      <td>...</td>\n      <td>0.081982</td>\n      <td>0.058774</td>\n      <td>0.092504</td>\n      <td>0.097421</td>\n      <td>0.095725</td>\n      <td>0.113515</td>\n      <td>0.082960</td>\n      <td>0</td>\n      <td>0</td>\n      <td>1</td>\n    </tr>\n    <tr>\n      <th>...</th>\n      <td>...</td>\n      <td>...</td>\n      <td>...</td>\n      <td>...</td>\n      <td>...</td>\n      <td>...</td>\n      <td>...</td>\n      <td>...</td>\n      <td>...</td>\n      <td>...</td>\n      <td>...</td>\n      <td>...</td>\n      <td>...</td>\n      <td>...</td>\n      <td>...</td>\n      <td>...</td>\n      <td>...</td>\n      <td>...</td>\n      <td>...</td>\n      <td>...</td>\n      <td>...</td>\n    </tr>\n    <tr>\n      <th>2019-12-30 20:00:00</th>\n      <td>0.071178</td>\n      <td>0.063688</td>\n      <td>0.092897</td>\n      <td>0.073667</td>\n      <td>0.038432</td>\n      <td>0.063474</td>\n      <td>0.106966</td>\n      <td>0.066870</td>\n      <td>0.094771</td>\n      <td>0.055901</td>\n      <td>...</td>\n      <td>0.082286</td>\n      <td>0.079556</td>\n      <td>0.111863</td>\n      <td>0.070875</td>\n      <td>0.092725</td>\n      <td>0.097334</td>\n      <td>0.024223</td>\n      <td>0</td>\n      <td>0</td>\n      <td>1</td>\n    </tr>\n    <tr>\n      <th>2019-12-30 21:00:00</th>\n      <td>0.119958</td>\n      <td>0.071178</td>\n      <td>0.063688</td>\n      <td>0.092897</td>\n      <td>0.073667</td>\n      <td>0.038432</td>\n      <td>0.063474</td>\n      <td>0.106966</td>\n      <td>0.066870</td>\n      <td>0.094771</td>\n      <td>...</td>\n      <td>0.087163</td>\n      <td>0.082286</td>\n      <td>0.079556</td>\n      <td>0.111863</td>\n      <td>0.070875</td>\n      <td>0.092725</td>\n      <td>0.097334</td>\n      <td>0</td>\n      <td>1</td>\n      <td>0</td>\n    </tr>\n    <tr>\n      <th>2019-12-30 22:00:00</th>\n      <td>0.080719</td>\n      <td>0.119958</td>\n      <td>0.071178</td>\n      <td>0.063688</td>\n      <td>0.092897</td>\n      <td>0.073667</td>\n      <td>0.038432</td>\n      <td>0.063474</td>\n      <td>0.106966</td>\n      <td>0.066870</td>\n      <td>...</td>\n      <td>0.066927</td>\n      <td>0.087163</td>\n      <td>0.082286</td>\n      <td>0.079556</td>\n      <td>0.111863</td>\n      <td>0.070875</td>\n      <td>0.092725</td>\n      <td>0</td>\n      <td>0</td>\n      <td>1</td>\n    </tr>\n    <tr>\n      <th>2019-12-30 23:00:00</th>\n      <td>0.100425</td>\n      <td>0.080719</td>\n      <td>0.119958</td>\n      <td>0.071178</td>\n      <td>0.063688</td>\n      <td>0.092897</td>\n      <td>0.073667</td>\n      <td>0.038432</td>\n      <td>0.063474</td>\n      <td>0.106966</td>\n      <td>...</td>\n      <td>0.045141</td>\n      <td>0.066927</td>\n      <td>0.087163</td>\n      <td>0.082286</td>\n      <td>0.079556</td>\n      <td>0.111863</td>\n      <td>0.070875</td>\n      <td>1</td>\n      <td>0</td>\n      <td>0</td>\n    </tr>\n    <tr>\n      <th>2019-12-31 00:00:00</th>\n      <td>0.041643</td>\n      <td>0.100425</td>\n      <td>0.080719</td>\n      <td>0.119958</td>\n      <td>0.071178</td>\n      <td>0.063688</td>\n      <td>0.092897</td>\n      <td>0.073667</td>\n      <td>0.038432</td>\n      <td>0.063474</td>\n      <td>...</td>\n      <td>0.055901</td>\n      <td>0.045141</td>\n      <td>0.066927</td>\n      <td>0.087163</td>\n      <td>0.082286</td>\n      <td>0.079556</td>\n      <td>0.111863</td>\n      <td>1</td>\n      <td>0</td>\n      <td>0</td>\n    </tr>\n  </tbody>\n</table>\n<p>43780 rows × 23 columns</p>\n</div>"
     },
     "execution_count": 25,
     "metadata": {},
     "output_type": "execute_result"
    }
   ],
   "source": [
    "unit = 'H'\n",
    "lag = 21\n",
    "threshold = 0.1\n",
    "\n",
    "df = pd.read_csv('./datasets/bitcoin.csv', header=0, parse_dates=['Timestamp'], index_col='Timestamp')\n",
    "#unix timestamp to datetime\n",
    "df.index = pd.to_datetime(df.index, unit='s')\n",
    "df = df.loc[(df.index >= datetime.datetime(2015, 1, 1, 00, 00, 00)) &\n",
    "            (df.index <= datetime.datetime(2019, 12, 31, 00, 00, 00))]\n",
    "\n",
    "bp = BitcoinPreprocess(unit, lag, threshold)\n",
    "df = bp.preprocess(df)\n",
    "df"
   ]
  },
  {
   "cell_type": "code",
   "execution_count": 26,
   "metadata": {
    "pycharm": {
     "name": "#%%\n"
    }
   },
   "outputs": [],
   "source": [
    "# df.to_csv('./datasets/bitcoin_position_day.csv')\n",
    "\n",
    "df.to_csv('./datasets/bitcoin_position_hour.csv')"
   ]
  },
  {
   "cell_type": "code",
   "execution_count": null,
   "outputs": [],
   "source": [
    "# plt.figure(figsize=(10, 5))\n",
    "# sb.lineplot(data=df.Close)\n",
    "# plt.figure(figsize=(10, 5))\n",
    "# sb.lineplot(data=df['pChange'])"
   ],
   "metadata": {
    "collapsed": false,
    "pycharm": {
     "name": "#%%\n"
    }
   }
  },
  {
   "cell_type": "code",
   "execution_count": 27,
   "metadata": {
    "pycharm": {
     "name": "#%%\n"
    }
   },
   "outputs": [
    {
     "data": {
      "text/plain": "                       Open    High     Low   Close\nTimestamp                                          \n2015-01-01 00:00:00  321.00  321.00  319.04  319.66\n2015-01-01 01:00:00  319.76  319.76  317.50  317.50\n2015-01-01 02:00:00  318.54  318.82  317.54  317.87\n2015-01-01 03:00:00  318.42  318.59  317.56  318.39\n2015-01-01 04:00:00  318.39  318.39  313.55  314.00",
      "text/html": "<div>\n<style scoped>\n    .dataframe tbody tr th:only-of-type {\n        vertical-align: middle;\n    }\n\n    .dataframe tbody tr th {\n        vertical-align: top;\n    }\n\n    .dataframe thead th {\n        text-align: right;\n    }\n</style>\n<table border=\"1\" class=\"dataframe\">\n  <thead>\n    <tr style=\"text-align: right;\">\n      <th></th>\n      <th>Open</th>\n      <th>High</th>\n      <th>Low</th>\n      <th>Close</th>\n    </tr>\n    <tr>\n      <th>Timestamp</th>\n      <th></th>\n      <th></th>\n      <th></th>\n      <th></th>\n    </tr>\n  </thead>\n  <tbody>\n    <tr>\n      <th>2015-01-01 00:00:00</th>\n      <td>321.00</td>\n      <td>321.00</td>\n      <td>319.04</td>\n      <td>319.66</td>\n    </tr>\n    <tr>\n      <th>2015-01-01 01:00:00</th>\n      <td>319.76</td>\n      <td>319.76</td>\n      <td>317.50</td>\n      <td>317.50</td>\n    </tr>\n    <tr>\n      <th>2015-01-01 02:00:00</th>\n      <td>318.54</td>\n      <td>318.82</td>\n      <td>317.54</td>\n      <td>317.87</td>\n    </tr>\n    <tr>\n      <th>2015-01-01 03:00:00</th>\n      <td>318.42</td>\n      <td>318.59</td>\n      <td>317.56</td>\n      <td>318.39</td>\n    </tr>\n    <tr>\n      <th>2015-01-01 04:00:00</th>\n      <td>318.39</td>\n      <td>318.39</td>\n      <td>313.55</td>\n      <td>314.00</td>\n    </tr>\n  </tbody>\n</table>\n</div>"
     },
     "execution_count": 27,
     "metadata": {},
     "output_type": "execute_result"
    }
   ],
   "source": [
    "#Preprocess ohlc candle\n",
    "unit = 'H'\n",
    "\n",
    "df = pd.read_csv('./datasets/bitcoin.csv', header=0, parse_dates=['Timestamp'], index_col='Timestamp')\n",
    "df.index = pd.to_datetime(df.index, unit='s')\n",
    "df = df.loc[(df.index >= datetime.datetime(2015, 1, 1, 00, 00, 00)) &\n",
    "            (df.index <= datetime.datetime(2019, 12, 31, 00, 00, 00))]\n",
    "\n",
    "cp = CandlePreprocess(unit)\n",
    "df = cp.preprocess(df)\n",
    "df.head()"
   ]
  },
  {
   "cell_type": "code",
   "execution_count": 28,
   "metadata": {
    "pycharm": {
     "name": "#%%\n"
    }
   },
   "outputs": [],
   "source": [
    "# df.to_csv('./datasets/bitcoin_candle_day.csv')\n",
    "df.to_csv('./datasets/bitcoin_candle_hour.csv')"
   ]
  },
  {
   "cell_type": "code",
   "execution_count": null,
   "outputs": [],
   "source": [],
   "metadata": {
    "collapsed": false,
    "pycharm": {
     "name": "#%%\n"
    }
   }
  }
 ],
 "metadata": {
  "kernelspec": {
   "display_name": "Ptyxiaki",
   "language": "python",
   "name": "ptyxiaki"
  },
  "language_info": {
   "codemirror_mode": {
    "name": "ipython",
    "version": 3
   },
   "file_extension": ".py",
   "mimetype": "text/x-python",
   "name": "python",
   "nbconvert_exporter": "python",
   "pygments_lexer": "ipython3",
   "version": "3.8.5"
  }
 },
 "nbformat": 4,
 "nbformat_minor": 1
}