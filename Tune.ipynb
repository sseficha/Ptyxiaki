{
 "cells": [
  {
   "cell_type": "code",
   "execution_count": 1,
   "metadata": {
    "collapsed": true
   },
   "outputs": [],
   "source": [
    "import pandas as pd\n",
    "import seaborn as sb\n",
    "import matplotlib.pyplot as plt\n",
    "from sklearn.metrics import classification_report\n",
    "from pckgs.helper import reduce\n",
    "from pckgs.models import get_model_mlp, get_model_single_lstm, \\\n",
    "    train_model, get_model_both_sent, get_model_both_emb, get_model_cnn\n",
    "from pckgs.price_preprocess import PricePreprocess\n",
    "from fin_utils.labels import oracle_labels\n",
    "import math\n",
    "from pckgs.evaluator import Evaluator\n",
    "import numpy as np\n",
    "%load_ext autoreload\n",
    "%autoreload 2\n",
    "from IPython.core.interactiveshell import InteractiveShell\n",
    "InteractiveShell.ast_node_interactivity = \"all\""
   ]
  },
  {
   "cell_type": "code",
   "execution_count": 2,
   "outputs": [],
   "source": [
    "candle = pd.read_feather('./Price/datasets/coinbase_day_candles/BTC-USD.feather')\n",
    "# candle = pd.read_feather('./Price/datasets/coinbase_hour_candles/BTC-USD.feather')\n",
    "candle.set_index('time', inplace=True)"
   ],
   "metadata": {
    "collapsed": false,
    "pycharm": {
     "name": "#%%\n"
    }
   }
  },
  {
   "cell_type": "code",
   "execution_count": 3,
   "outputs": [],
   "source": [
    "# plt.figure(figsize=(10,8))\n",
    "# sb.lineplot(data=candle, x=candle.index, y='close')\n",
    "# oracle_labels(candle, 0.005, include_exit=True)"
   ],
   "metadata": {
    "collapsed": false,
    "pycharm": {
     "name": "#%%\n"
    }
   }
  },
  {
   "cell_type": "code",
   "execution_count": 28,
   "outputs": [],
   "source": [
    "start_timestamp = '2015-01-01 00:00:00'\n",
    "split_timestamp = '2019-01-30 00:00:00'\n",
    "end_timestamp = '2019-12-31 23:00:00'\n",
    "\n",
    "lag = 21\n",
    "# threshold = 0.5\n",
    "threshold = 0.7\n",
    "pp = PricePreprocess(lag, threshold)"
   ],
   "metadata": {
    "collapsed": false,
    "pycharm": {
     "name": "#%%\n"
    }
   }
  },
  {
   "cell_type": "code",
   "execution_count": 29,
   "outputs": [],
   "source": [
    "#reduce candle\n",
    "positions = pp.preprocess(candle)"
   ],
   "metadata": {
    "collapsed": false,
    "pycharm": {
     "name": "#%%\n"
    }
   }
  },
  {
   "cell_type": "code",
   "execution_count": 30,
   "outputs": [
    {
     "data": {
      "text/plain": "down  same  up\n0     0     1     582\n      1     0     462\n1     0     0     447\ndtype: int64"
     },
     "execution_count": 30,
     "metadata": {},
     "output_type": "execute_result"
    },
    {
     "data": {
      "text/plain": "down  same  up\n0     0     1     126\n1     0     0     113\n0     1     0      96\ndtype: int64"
     },
     "execution_count": 30,
     "metadata": {},
     "output_type": "execute_result"
    }
   ],
   "source": [
    "#train test split\n",
    "y = positions.loc[:, ['down', 'same', 'up']]\n",
    "x = positions.drop(['down', 'same', 'up'], axis=1)\n",
    "\n",
    "# sentiment = pd.read_csv('./Text/datasets/headline_sentiment_mean.csv', index_col='date', parse_dates=['date'])\n",
    "# sentiment_score = reduce(sentiment, lag=21)\n",
    "# sentiment_score.dropna(inplace=True)\n",
    "# sentiment_score.drop('sentiment_score_t', axis=1, inplace=True)\n",
    "# x2 = sentiment_score\n",
    "# x=x2\n",
    "# x = x2.merge(x, left_index=True, right_index=True, how='right').dropna()\n",
    "\n",
    "\n",
    "x_train = x.loc[(start_timestamp <= x.index) & (x.index <= split_timestamp)]\n",
    "y_train = y.loc[(start_timestamp <= y.index) & (y.index <= split_timestamp)]\n",
    "x_test = x.loc[(split_timestamp < x.index) & (x.index <= end_timestamp)]\n",
    "y_test = y.loc[(split_timestamp < y.index) & (y.index <= end_timestamp)]\n",
    "y_train.value_counts()\n",
    "y_test.value_counts()\n",
    "\n",
    "# x_train = x_train.values.reshape((len(x_train), int(len(x_train.columns) / 2), 2), order='F')\n",
    "# x_test = x_test.values.reshape((len(x_test), int(len(x_test.columns) / 2), 2), order='F')\n",
    "\n",
    "\n",
    "test_index = y_test.index\n",
    "test_candle = candle.reindex(test_index)"
   ],
   "metadata": {
    "collapsed": false,
    "pycharm": {
     "name": "#%%\n"
    }
   }
  },
  {
   "cell_type": "code",
   "execution_count": 7,
   "outputs": [],
   "source": [
    "def evaluate(y_test, y_pred):\n",
    "    #create labeled y_test to measure pnl, confusion matrix\n",
    "    y_test_labeled = y_test.rename(columns={'down': -1, 'same': 0, 'up': 1})\n",
    "    y_test_labeled = y_test_labeled.idxmax(axis=1)\n",
    "\n",
    "    y_pred_labeled = pd.DataFrame(y_pred, columns=[-1, 0, 1])\n",
    "    y_pred_labeled = y_pred_labeled.idxmax(axis=1)\n",
    "\n",
    "    report = classification_report(y_test_labeled, y_pred_labeled,output_dict=True)\n",
    "    return report['accuracy']\n",
    "    # print(report['accuracy'])\n",
    "    # print(report['macro avg']['f1-score'])\n",
    "    # print(report['weighted avg']['f1-score'])\n"
   ],
   "metadata": {
    "collapsed": false,
    "pycharm": {
     "name": "#%%\n"
    }
   }
  },
  {
   "cell_type": "code",
   "execution_count": 14,
   "outputs": [
    {
     "data": {
      "text/plain": "(335, 20)"
     },
     "execution_count": 14,
     "metadata": {},
     "output_type": "execute_result"
    }
   ],
   "source": [
    "x_test.shape\n",
    "#loop\n",
    "# model = get_model_mlp()\n",
    "model = get_model_single_lstm()\n",
    "# model = get_model_cnn()\n",
    "# model.summary()\n",
    "# model = get_model_both_sent()\n",
    "model, model_pnl, history, pnl = train_model(model, (x_train, x_test, y_train, y_test),test_candle, './model_price.h5', epochs=4000)\n",
    "# y_pred = model.predict(x_test)\n",
    "# evaluate(y_test, y_pred)"
   ],
   "metadata": {
    "collapsed": false,
    "pycharm": {
     "name": "#%%\n"
    }
   }
  },
  {
   "cell_type": "code",
   "execution_count": 15,
   "outputs": [
    {
     "data": {
      "text/plain": "<Figure size 432x288 with 0 Axes>"
     },
     "execution_count": 15,
     "metadata": {},
     "output_type": "execute_result"
    },
    {
     "data": {
      "text/plain": "<AxesSubplot:>"
     },
     "execution_count": 15,
     "metadata": {},
     "output_type": "execute_result"
    },
    {
     "data": {
      "text/plain": "<Figure size 432x288 with 0 Axes>"
     },
     "execution_count": 15,
     "metadata": {},
     "output_type": "execute_result"
    },
    {
     "data": {
      "text/plain": "<AxesSubplot:>"
     },
     "execution_count": 15,
     "metadata": {},
     "output_type": "execute_result"
    },
    {
     "data": {
      "text/plain": "<Figure size 432x288 with 0 Axes>"
     },
     "execution_count": 15,
     "metadata": {},
     "output_type": "execute_result"
    },
    {
     "data": {
      "text/plain": "<AxesSubplot:>"
     },
     "execution_count": 15,
     "metadata": {},
     "output_type": "execute_result"
    },
    {
     "data": {
      "text/plain": "<Figure size 432x288 with 1 Axes>",
      "image/png": "[encoded data removed]"
     },
     "metadata": {
      "needs_background": "light"
     },
     "output_type": "display_data"
    },
    {
     "data": {
      "text/plain": "<Figure size 432x288 with 1 Axes>",
      "image/png": "[encoded data removed]"
     },
     "metadata": {
      "needs_background": "light"
     },
     "output_type": "display_data"
    },
    {
     "data": {
      "text/plain": "<Figure size 432x288 with 1 Axes>",
      "image/png": "[encoded data removed]"
     },
     "metadata": {
      "needs_background": "light"
     },
     "output_type": "display_data"
    }
   ],
   "source": [
    "#plot learning curve\n",
    "ac = {'accuracy': history.history['accuracy'], 'val_accuracy': history.history['val_accuracy']}\n",
    "plt.figure()\n",
    "sb.lineplot(data=ac)\n",
    "\n",
    "loss = {'loss': history.history['loss'], 'val_loss': history.history['val_loss']}\n",
    "plt.figure()\n",
    "sb.lineplot(data=loss)\n",
    "\n",
    "plt.figure()\n",
    "sb.lineplot(data=pnl,label='pnl', color='red')"
   ],
   "metadata": {
    "collapsed": false,
    "pycharm": {
     "name": "#%%\n"
    }
   }
  },
  {
   "cell_type": "code",
   "execution_count": null,
   "outputs": [],
   "source": [
    "# y_pred = model.predict(x_test)\n",
    "y_pred = model_pnl.predict(x_test)\n",
    "\n",
    "\n",
    "y_test_labeled = y_test.rename(columns={'down': -1, 'same': 0, 'up': 1})\n",
    "y_test_labeled = y_test_labeled.idxmax(axis=1)\n",
    "y_pred_labeled = pd.DataFrame(y_pred, columns=[-1, 0, 1], index=test_index)\n",
    "y_pred_labeled = y_pred_labeled.idxmax(axis=1)\n",
    "\n",
    "# pnl = Evaluator.get_pnl(y_pred_labeled, test_candle)\n",
    "# pnl.iloc[len(pnl) - 1]\n",
    "\n",
    "# Evaluator.evaluate(y_pred_labeled, y_test_labeled, test_candle)\n",
    "# print(classification_report(y_test_labeled, y_pred_labeled))"
   ],
   "metadata": {
    "collapsed": false,
    "pycharm": {
     "name": "#%%\n"
    }
   }
  },
  {
   "cell_type": "code",
   "execution_count": null,
   "outputs": [],
   "source": [],
   "metadata": {
    "collapsed": false,
    "pycharm": {
     "name": "#%%"
    }
   }
  }
 ],
 "metadata": {
  "kernelspec": {
   "name": "ptyxiaki",
   "language": "python",
   "display_name": "Ptyxiaki"
  },
  "language_info": {
   "codemirror_mode": {
    "name": "ipython",
    "version": 2
   },
   "file_extension": ".py",
   "mimetype": "text/x-python",
   "name": "python",
   "nbconvert_exporter": "python",
   "pygments_lexer": "ipython2",
   "version": "2.7.6"
  }
 },
 "nbformat": 4,
 "nbformat_minor": 0
}